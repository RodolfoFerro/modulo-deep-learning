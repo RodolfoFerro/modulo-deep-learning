{
  "nbformat": 4,
  "nbformat_minor": 0,
  "metadata": {
    "colab": {
      "private_outputs": true,
      "provenance": [],
      "gpuType": "T4",
      "authorship_tag": "ABX9TyN2TdAad5KL+9DBy9m/UnH0",
      "include_colab_link": true
    },
    "kernelspec": {
      "name": "python3",
      "display_name": "Python 3"
    },
    "language_info": {
      "name": "python"
    },
    "accelerator": "GPU"
  },
  "cells": [
    {
      "cell_type": "markdown",
      "metadata": {
        "id": "view-in-github",
        "colab_type": "text"
      },
      "source": [
        "<a href=\"https://colab.research.google.com/github/RodolfoFerro/modulo-deep-learning/blob/main/notebooks/04_Visi%C3%B3n_computacional_profunda.ipynb\" target=\"_parent\"><img src=\"https://colab.research.google.com/assets/colab-badge.svg\" alt=\"Open In Colab\"/></a>"
      ]
    },
    {
      "cell_type": "markdown",
      "source": [
        "# **Aprendizaje profundo - Sesión 4  🧠**\n",
        "\n",
        "> **Descripción:** Cuaderno de contenidos del módulo de aprendizaje profundo para el Dimplomado en Ciencia de Datos de la ENES UNAM León, 2024. <br>\n",
        "> **Autor:** [Rodolfo Ferro](https://github.com/RodolfoFerro) <br>\n",
        "> **Contacto:** [ferro@cimat.mx](mailto:ferro@cimat.mx)\n",
        "\n",
        "\n",
        "## Contenido\n",
        "\n",
        "### Sección I\n",
        "\n",
        "1. Refresher de NumPy\n",
        "2. Introducción a imágenes\n",
        "3. Espacios de color\n",
        "\n",
        "### Sección II\n",
        "\n",
        "4. Convoluciones y Pooling\n",
        "5. Redes neuronales convolucionales\n",
        "6. Clasificadores de imágenes"
      ],
      "metadata": {
        "id": "CssVPTfc8tPE"
      }
    },
    {
      "cell_type": "markdown",
      "metadata": {
        "id": "KlQl_jAunKvb"
      },
      "source": [
        "## **Sección I**"
      ]
    },
    {
      "cell_type": "markdown",
      "metadata": {
        "id": "oEb89kXLJaf2"
      },
      "source": [
        "### **Refresher de NumPy**\n",
        "\n",
        "Como ya lo sabes, para crear y manipular arreglos, podemos usar el módulo NumPy, el cual ya importamos a nuestro cuaderno (con el nombre `np`) en sesiones anteriores.\n",
        "\n",
        "¿Quieres saber más sobre el módulo Numpy? Haz click en la imagen a continuación:\n",
        "\n",
        "<center>\n",
        "    <a href=\"http://www.numpy.org/\" target=\"_blank\">\n",
        "    <img width=\"20%\" src=\"https://numpy.org/images/logo.svg\">\n",
        "    </a>\n",
        "</center>"
      ]
    },
    {
      "cell_type": "markdown",
      "metadata": {
        "id": "3-HLea6FJaf2"
      },
      "source": [
        "Una función que es muy útil dentro de Numpy es `arange`, la cual nos permite crear una lista de números en el rango e incremento que nosotros queramos:"
      ]
    },
    {
      "cell_type": "code",
      "execution_count": null,
      "metadata": {
        "id": "ziNjWpKQJaf2"
      },
      "outputs": [],
      "source": [
        "import numpy as np\n",
        "\n",
        "# Para crear una lista de números del 0 al 10 en\n",
        "# incrementos de 1 en 1, podemos hacer:\n",
        "numeros = np.arange(0, 11, 1)\n",
        "print(numeros)"
      ]
    },
    {
      "cell_type": "markdown",
      "metadata": {
        "id": "4dAiFzIuJaf2"
      },
      "source": [
        "Para crear un arreglo de números que empieza en 10, acaba en 100, y va en intervalos de 5, haríamos lo siguiente:"
      ]
    },
    {
      "cell_type": "code",
      "execution_count": null,
      "metadata": {
        "id": "ThsO00hVJaf2"
      },
      "outputs": [],
      "source": [
        "numeros = np.arange(10, 101, 5)\n",
        "print(numeros)"
      ]
    },
    {
      "cell_type": "markdown",
      "metadata": {
        "id": "Qv0QMgqdJaf2"
      },
      "source": [
        "Nota que, al volver a definir la variable \"numeros\", ésta quedo reemplazada con el nuevo arreglo de datos, y se borró su valor anterior."
      ]
    },
    {
      "cell_type": "markdown",
      "metadata": {
        "id": "pgJCKWSLJaf2"
      },
      "source": [
        "**Ejercicio (dos líneas de código):**\n",
        "- Crea una lista de números del 2 al 24, en intervalos de 2.\n",
        "- Guárdala en una variable con el nombre que quieras, e imprímela."
      ]
    },
    {
      "cell_type": "code",
      "execution_count": null,
      "metadata": {
        "id": "pUJl7I2M8g7a"
      },
      "outputs": [],
      "source": []
    },
    {
      "cell_type": "markdown",
      "metadata": {
        "id": "miyh2nkJJagB"
      },
      "source": [
        "Como vimos antes, usando la función \"zeros\", podemos crear arreglos de puros 0´s de la dimensión y tamaño que querramos."
      ]
    },
    {
      "cell_type": "markdown",
      "metadata": {
        "id": "EacPQkJtJagB"
      },
      "source": [
        "#### **1 dimensión**\n",
        "\n",
        "Un arreglo de 1 dimensión lo puedes pensar como una lista de números:\n"
      ]
    },
    {
      "cell_type": "code",
      "execution_count": null,
      "metadata": {
        "id": "a45f7te7JagB"
      },
      "outputs": [],
      "source": [
        "# 1 dimensión\n",
        "vacio_1D = np.zeros(6)\n",
        "print(vacio_1D)"
      ]
    },
    {
      "cell_type": "markdown",
      "metadata": {
        "id": "H_ejkf02JagB"
      },
      "source": [
        "Puedes llenar o modifica el valor de un elemento del arreglo usando su \"índice\".\n",
        "\n",
        "**Algo muy importante es que en Python siempre se empieza a contar desde 0.**"
      ]
    },
    {
      "cell_type": "code",
      "execution_count": null,
      "metadata": {
        "id": "bQL-UaxVJagB"
      },
      "outputs": [],
      "source": [
        "vacio_1D[0] = 5 # El elemento 0 es el primer elemento.\n",
        "print(vacio_1D)"
      ]
    },
    {
      "cell_type": "code",
      "source": [
        "vacio_1D[2] = 8 # El elemento 2 es el tercer elemento.\n",
        "print(vacio_1D)"
      ],
      "metadata": {
        "id": "6YqwE5HSY2J5"
      },
      "execution_count": null,
      "outputs": []
    },
    {
      "cell_type": "markdown",
      "metadata": {
        "id": "uxxS2MtTJagB"
      },
      "source": [
        "Puedes hacer un arreglo de 1 dimensión que vaya del 0 al 10, en incrementos de 1, con el comando `arange` de Numpy:"
      ]
    },
    {
      "cell_type": "code",
      "execution_count": null,
      "metadata": {
        "id": "x5TYlcT9JagB"
      },
      "outputs": [],
      "source": [
        "mi_arreglo = np.arange(0, 11, 1)\n",
        "print(mi_arreglo)"
      ]
    },
    {
      "cell_type": "markdown",
      "metadata": {
        "id": "bF9HMbEFJagB"
      },
      "source": [
        "Y del 20 al 40, en intervalos de 2, sería así:"
      ]
    },
    {
      "cell_type": "code",
      "execution_count": null,
      "metadata": {
        "id": "O0IO8ydcJagB"
      },
      "outputs": [],
      "source": [
        "mi_arreglo = np.arange(20, 41, 2)\n",
        "print(mi_arreglo)"
      ]
    },
    {
      "cell_type": "markdown",
      "metadata": {
        "id": "kgayRWHiJagB"
      },
      "source": [
        "**Ejercicio:**\n",
        "- Genera un arreglo de 1 dimensión que vaya del 10 al 100, en intervalos de 5.\n",
        "- Guárdalo en una variable (escoje el nombre que quieras), e imprímela."
      ]
    },
    {
      "cell_type": "code",
      "source": [],
      "metadata": {
        "id": "-VWwxWFo-x2I"
      },
      "execution_count": null,
      "outputs": []
    },
    {
      "cell_type": "markdown",
      "metadata": {
        "id": "1GVHYa_FJagB"
      },
      "source": [
        "**Ejercicio:** Sustituye el primer elemento de tu arreglo con el número 500, imprime el nuevo arreglo."
      ]
    },
    {
      "cell_type": "code",
      "source": [],
      "metadata": {
        "id": "JpHfYfd9-ymc"
      },
      "execution_count": null,
      "outputs": []
    },
    {
      "cell_type": "markdown",
      "metadata": {
        "id": "Uo_U6gvPJagC"
      },
      "source": [
        "#### **2 dimensiones**\n",
        "\n",
        "Un arreglo de dos dimensiones `(MxN)` lo puedes ver como una matriz, con `M` renglones y `N` columnas."
      ]
    },
    {
      "cell_type": "code",
      "execution_count": null,
      "metadata": {
        "id": "Oiqfj7B9JagC"
      },
      "outputs": [],
      "source": [
        "# 2 dimensiones\n",
        "vacio_2D = np.zeros((4, 3)) # 4 renglones, 3 columnas, llena de 0's\n",
        "print(vacio_2D)"
      ]
    },
    {
      "cell_type": "markdown",
      "metadata": {
        "id": "RvHLbWxvJagC"
      },
      "source": [
        "Puedes llenar o accesar elementos individules usando parejas de índices: (renglón, columna)"
      ]
    },
    {
      "cell_type": "code",
      "execution_count": null,
      "metadata": {
        "id": "hdsvkEl1JagC"
      },
      "outputs": [],
      "source": [
        "vacio_2D[0, 0] = 10\n",
        "vacio_2D[1, 1] = 15\n",
        "print(vacio_2D)"
      ]
    },
    {
      "cell_type": "markdown",
      "metadata": {
        "id": "m_OWwUQvJagC"
      },
      "source": [
        "También puedes llenar un renglón o una columna entera con un arreglo, de la siguiente manera:"
      ]
    },
    {
      "cell_type": "code",
      "execution_count": null,
      "metadata": {
        "id": "L8p2vdYLJagC"
      },
      "outputs": [],
      "source": [
        "# La notación [0, :] quiere decir \"el renglón 0 y todas las columnas\".\n",
        "\n",
        "# Estamos llenando el primer renglón con un arreglo de 1´s\n",
        "vacio_2D[0, :] = np.ones(3)\n",
        "\n",
        "# Estamos llenando el último renglón con un arreglo de 100´s\n",
        "vacio_2D[3, :] = 100 * np.ones(3)\n",
        "\n",
        "print(vacio_2D)"
      ]
    },
    {
      "cell_type": "markdown",
      "metadata": {
        "id": "WX-h7yKTJagC"
      },
      "source": [
        "Para imprimir solo un renglón, o solo una columna, harías:"
      ]
    },
    {
      "cell_type": "code",
      "execution_count": null,
      "metadata": {
        "id": "MeVDpPPlJagC"
      },
      "outputs": [],
      "source": [
        "print(\"El primer renglon:\")\n",
        "print(vacio_2D[0, :])\n",
        "\n",
        "print(\"La primera columna:\")\n",
        "print(vacio_2D[:, 0])"
      ]
    },
    {
      "cell_type": "markdown",
      "metadata": {
        "id": "2rs-CV-PJagC"
      },
      "source": [
        "**Ejercicio:**\n",
        "- Crea un arreglo de ceros de 2 dimensiones de 5X5.\n",
        "- Llena la primera **columna** con puros 35.\n",
        "- Imprime el arreglo."
      ]
    },
    {
      "cell_type": "code",
      "source": [],
      "metadata": {
        "id": "XTlbCTuR-_2L"
      },
      "execution_count": null,
      "outputs": []
    },
    {
      "cell_type": "markdown",
      "metadata": {
        "id": "YVJmsghkJagC"
      },
      "source": [
        "#### **3 dimensiones**\n",
        "\n",
        "Un arreglo de 3 dimensiones `(MxNxP)` lo puedes pensar como un \"cubo\" de datos, o como `P` matrices de `MxN` (`M` renglones y `N` columnas).\n",
        "\n",
        "Veremos que los archivos de imagenes son arreglos de 3 dimensiones, con una matriz para cada canal de color (Rojo, Verde y Azul, o RGB)"
      ]
    },
    {
      "cell_type": "code",
      "execution_count": null,
      "metadata": {
        "id": "AuNYKjS5JagC"
      },
      "outputs": [],
      "source": [
        "# 3 dimensiones\n",
        "vacio_3D = np.zeros((2, 4, 3))\n",
        "# print(vacio_3D)"
      ]
    },
    {
      "cell_type": "markdown",
      "metadata": {
        "id": "JGJunqaDJagC"
      },
      "source": [
        "Piensa el arreglo de arriba, `vacio_3D`, como 3 matrices de `2X4` (2 renglones, 4 columnas), una detrás (o encima) de la otra.\n",
        "\n",
        "Podemos llenar una de las matrices de `2X4` entera a la vez, de la siguiente manera.\n",
        "\n",
        "(**OJO:** Esto va a ser **MUY** útil cuando estemos trabajando con imágenes)."
      ]
    },
    {
      "cell_type": "code",
      "execution_count": null,
      "metadata": {
        "id": "3lfy4-5-JagC"
      },
      "outputs": [],
      "source": [
        "# Una matriz de 1's, con dos renglones, cuatro columnas\n",
        "vacio_3D[:, :, 0] = np.ones((2, 4))\n",
        "\n",
        "# Todos los renglones, todas las columnas de la \"primera\" matriz\n",
        "print(\"Esta es la 'primera' matriz de nuestro arreglo 3D\")\n",
        "print(vacio_3D[:, :, 0])\n",
        "\n",
        "# Todos los renglones, todas las columnas de la \"segunda\" matriz\n",
        "print(\"Esta es la 'segunda' matriz de nuestro arreglo 3D\")\n",
        "print(vacio_3D[:, :, 1])"
      ]
    },
    {
      "cell_type": "markdown",
      "metadata": {
        "id": "8r-SfPfFJagC"
      },
      "source": [
        "Y para averiguar las dimensiones de un arreglo, usamos nombre_arreglo.shape"
      ]
    },
    {
      "cell_type": "code",
      "execution_count": null,
      "metadata": {
        "id": "lerVQ1pIJagC"
      },
      "outputs": [],
      "source": [
        "print(\"Las dimensiones de nuestro arreglo 3D son:\")\n",
        "print(vacio_3D.shape)\n",
        "\n",
        "dim_1 = vacio_3D.shape[0] # Recuerda que Python cuenta desde cero\n",
        "dim_2 = vacio_3D.shape[1]\n",
        "dim_3 = vacio_3D.shape[2]\n",
        "print(dim_1)\n",
        "print(dim_2)\n",
        "print(dim_3)"
      ]
    },
    {
      "cell_type": "markdown",
      "metadata": {
        "id": "PS3vJ1ZeJagD"
      },
      "source": [
        "**Ejercicio:**\n",
        "- Crea un arreglo de 3 dimensiones, con tamaño `4x5x3`, lleno de ceros.\n",
        "- Llena la primera matriz - coordenadas `[:, :, 0]` con puros 1's, y la tercera matriz con puros números 4´s.\n",
        "- Imprime el arreglo, una matriz a la vez."
      ]
    },
    {
      "cell_type": "code",
      "source": [],
      "metadata": {
        "id": "NizOR9fMAClp"
      },
      "execution_count": null,
      "outputs": []
    },
    {
      "cell_type": "markdown",
      "metadata": {
        "id": "fcnvEf-IJagD"
      },
      "source": [
        "Finalmente, podemos tomar cualquier arreglo y \"re-arreglarlo\" como otro de menor o mayor dimensión. Para hacer esto, utilizamos la función \"reshape\".\n",
        "\n",
        "Por ejemplo, podemos tomar una matriz de `2x3`, y re-arreglarlo como un arreglo 1D con 6 elementos.\n",
        "\n",
        "**Nota:** Observa que el total de elementos reordenados debe mantenerse."
      ]
    },
    {
      "cell_type": "code",
      "execution_count": null,
      "metadata": {
        "id": "EIMd1lP-JagD"
      },
      "outputs": [],
      "source": [
        "matriz_1 = np.ones((2, 3))\n",
        "print(\"Esta es la matriz de 2 por 3:\")\n",
        "print(matriz_1)\n",
        "\n",
        "arreglo_1 = np.reshape(matriz_1, 6)\n",
        "print(\"Este es el arreglo con 6 elementos:\")\n",
        "print(arreglo_1)"
      ]
    },
    {
      "cell_type": "markdown",
      "source": [
        "Con esto podemos comenzar a trabajar con imágenes."
      ],
      "metadata": {
        "id": "87Qv_9e7AccI"
      }
    },
    {
      "cell_type": "markdown",
      "source": [
        "### **Introducción a imágenes**"
      ],
      "metadata": {
        "id": "PQO8IUhgAfHP"
      }
    },
    {
      "cell_type": "markdown",
      "metadata": {
        "id": "PXyZTY0JJaf1"
      },
      "source": [
        "#### **Cargar y mostrar una imagen**\n",
        "\n",
        "Ahora, vamos a usar el módulo `matplotlib.image` (llamado `mpimg` en nuestro código) para leer una imagen en formato PNG.\n",
        "\n",
        "También usaremos el módulo `matplotlib.pyplot` (llamado `plt` en nuestro código) para mostrarla dentro del cuaderno.\n",
        "\n",
        "Es importante que descargues y subas a este cuaderno la imagen `\"color_wheel.png\"`. Puedes encontrar la imagen en este link: https://github.com/RodolfoFerro/expansion-sesorial/tree/main/assets/images"
      ]
    },
    {
      "cell_type": "code",
      "source": [
        "# Código para descargar una imagen de ejemplo\n",
        "!wget https://raw.githubusercontent.com/RodolfoFerro/modulo-deep-learning/main/assets/color_wheel.png"
      ],
      "metadata": {
        "id": "FmaQQ7pJWy1W"
      },
      "execution_count": null,
      "outputs": []
    },
    {
      "cell_type": "code",
      "execution_count": null,
      "metadata": {
        "id": "zt12tLSXJaf1"
      },
      "outputs": [],
      "source": [
        "# Leeremos la imagen que está guardada en el archivo \"color_wheel.png\",\n",
        "# es importante que subas la función manualmente o ejecutes el código\n",
        "# auxiliar de la celda debajo para poder tener la imagen en la memoria\n",
        "# del cuaderno.\n",
        "\n",
        "import numpy as np # Importamos el paquete de métodos numéricos y lo llamamos \"np\".\n",
        "import matplotlib.pyplot as plt # Es un paquete para graficar, ahora se llama \"plt\" en nuestro cuaderno.\n",
        "import matplotlib.image as mpimg # Es otro paquete para manipular imágenes.\n",
        "\n",
        "# Para leer la imagen usaremos la función \"imread\" del módulo\n",
        "# matplotlib.image (\"mpimg\") y la guardaremos en una variable \"img\"\n",
        "img = mpimg.imread(\"color_wheel.png\")\n",
        "\n",
        "\n",
        "# Podemos mostrar la imagen que guardamos en la variable \"img\"\n",
        "# usando la función \"imshow\", del módulo matplotlib.pyplot (\"plt\")\n",
        "plt.imshow(img)\n",
        "plt.axis(\"off\")"
      ]
    },
    {
      "cell_type": "markdown",
      "metadata": {
        "id": "aTLbskT1Jaf1"
      },
      "source": [
        "Investiguemos y comprendamos un poco más cómo se representa una imagen en Python.\n",
        "\n",
        "Vamos a imprimir la variable \"img\" (ojo, no la mostraremos como imagen), en donde guardamos la imagen que leímos del archivo."
      ]
    },
    {
      "cell_type": "code",
      "execution_count": null,
      "metadata": {
        "scrolled": true,
        "id": "jJTUJYLyJaf2"
      },
      "outputs": [],
      "source": [
        "print(img)\n",
        "#print(img[400, 100, :])"
      ]
    },
    {
      "cell_type": "markdown",
      "metadata": {
        "id": "hHxGGx4TJaf2"
      },
      "source": [
        "Como puedes ver, una imagen no es más que un arreglo de muchos números (en este caso, con valores entre 0 y 1).\n",
        "\n",
        "Por esta razón, como queremos volvernos expertas y expertos en manipular archivos de imágenes con Python, tenemos que aprender más sobre las propiedades de los arreglos y cómo manipularlos."
      ]
    },
    {
      "cell_type": "markdown",
      "metadata": {
        "id": "g3xLtvSkJagD"
      },
      "source": [
        "Ahora que sabes cómo manipular arreglos, vamos a ver qué dimensiones tiene la imagen."
      ]
    },
    {
      "cell_type": "markdown",
      "metadata": {
        "id": "nn_PbsJ3JagD"
      },
      "source": [
        "**Ejercicio:** Imprime las dimensiones de la imagen `img`."
      ]
    },
    {
      "cell_type": "code",
      "source": [],
      "metadata": {
        "id": "VfeYE7OmBkKO"
      },
      "execution_count": null,
      "outputs": []
    },
    {
      "cell_type": "markdown",
      "metadata": {
        "id": "e4yUdeZ2JagD"
      },
      "source": [
        "**Pregunta:** Si podemos pensar en los arreglos 3D como varias matrices (2D), ¿cuántas matrices hay en nuestra imagen?"
      ]
    },
    {
      "cell_type": "code",
      "source": [],
      "metadata": {
        "id": "rDuDQkw1BkXV"
      },
      "execution_count": null,
      "outputs": []
    },
    {
      "cell_type": "markdown",
      "metadata": {
        "id": "ofR_85HeJagD"
      },
      "source": [
        "### **Canales de color**\n",
        "\n",
        "Las imágenes digitales tienen, en general, tres canales de color: Rojo (R), Verde (G) y Azul (B). La primera matriz de nuestra imagen es la R, la segunda la G, y la tercera la B:"
      ]
    },
    {
      "cell_type": "code",
      "execution_count": null,
      "metadata": {
        "collapsed": true,
        "id": "OXKVby2ZJagD"
      },
      "outputs": [],
      "source": [
        "canal_rojo = img[:, :, 0]\n",
        "canal_verde = img[:, :, 1]\n",
        "canal_azul = img[:, :, 2]"
      ]
    },
    {
      "cell_type": "markdown",
      "metadata": {
        "id": "AQYECvMyJagD"
      },
      "source": [
        "**¿Qué es el cuarto canal/matriz?** Se llama el canal \"alpha\" y controla la \"transparencia\" de una imagen. Lo vamos a ignorar por ahora."
      ]
    },
    {
      "cell_type": "code",
      "execution_count": null,
      "metadata": {
        "collapsed": true,
        "id": "ni3Q4g8LJagD"
      },
      "outputs": [],
      "source": [
        "canal_alpha = img[:, :, 3]"
      ]
    },
    {
      "cell_type": "markdown",
      "metadata": {
        "id": "PIkVdM99JagE"
      },
      "source": [
        "Si queremos ver sólo el canal rojo de la imagen, necesitamos tomar ese canal pero fijar el resto de los canales (verde y azul) en ceros."
      ]
    },
    {
      "cell_type": "code",
      "execution_count": null,
      "metadata": {
        "id": "8HhgQYqhJagE"
      },
      "outputs": [],
      "source": [
        "# Hacemos un arreglo con las mismas dimensiones que la imagen:\n",
        "img_rojo = np.zeros((730, 730, 4))\n",
        "\n",
        "# Vamos a llenar el canal rojo de img_rojo con el canal rojo de img\n",
        "img_rojo[:, :, 0] = canal_rojo\n",
        "\n",
        "# y vamos a fijar el canal alpha con el mismo valor que la img.\n",
        "img_rojo[:, :, 3] = canal_alpha\n",
        "\n",
        "plt.imshow(img_rojo)\n",
        "plt.axis(\"off\")"
      ]
    },
    {
      "cell_type": "markdown",
      "metadata": {
        "id": "BmbWk1hwJagE"
      },
      "source": [
        "**Ejercicio:** Es tu turno, haz lo mismo que hicimos arriba con el canal rojo, pero ahora con el canal verde.\n"
      ]
    },
    {
      "cell_type": "code",
      "source": [],
      "metadata": {
        "id": "7rFeP8R2CI4P"
      },
      "execution_count": null,
      "outputs": []
    },
    {
      "cell_type": "markdown",
      "metadata": {
        "id": "m8zWsxQqJagE"
      },
      "source": [
        "**Ejercicio:** Y ahora con el canal azul."
      ]
    },
    {
      "cell_type": "code",
      "source": [],
      "metadata": {
        "id": "wH7xtmGBCKqs"
      },
      "execution_count": null,
      "outputs": []
    },
    {
      "cell_type": "markdown",
      "metadata": {
        "id": "dTqCINBwJagE"
      },
      "source": [
        "¡Excelente! Ya sabes descomoponer una imagen por sus canales de color trabajando únicamente con matrices.\n"
      ]
    },
    {
      "cell_type": "markdown",
      "source": [
        "### **Manipulación de pixeles**\n"
      ],
      "metadata": {
        "id": "S2MDEmc9CWLv"
      }
    },
    {
      "cell_type": "markdown",
      "metadata": {
        "id": "3unhIODOJagF"
      },
      "source": [
        "Podemos combinar los dobles \"for loops\" (con matrices de 2D) y un \"if statement\" para cambiar de color todos los pixeles que satisfagan cierta condición.\n",
        "\n",
        "Por ejemplo, vamos a tomar nuestra imagen de colores, y cambiar a color negro todos los pixeles cuyo valor en el canal rojo sea mayor al número 0.99"
      ]
    },
    {
      "cell_type": "code",
      "execution_count": null,
      "metadata": {
        "collapsed": true,
        "id": "TA0gm1D-JagF"
      },
      "outputs": [],
      "source": [
        "# Primero tomamos el canal rojo de la imagen \"img\"\n",
        "canal_rojo = img[:, :, 0]\n",
        "\n",
        "# Y hacemos una copia de la imagen, la cual vamos a manipular.\n",
        "img_copy = img.copy()"
      ]
    },
    {
      "cell_type": "markdown",
      "metadata": {
        "id": "Nd6HDwLAJagF"
      },
      "source": [
        "Y aqui usamos lo que aprendimos del doble for loop para iterar sobre cada [renglon,columna]"
      ]
    },
    {
      "cell_type": "code",
      "execution_count": null,
      "metadata": {
        "id": "fT24X3y4JagF"
      },
      "outputs": [],
      "source": [
        "dim1 = img.shape[0]\n",
        "dim2 = img.shape[1]\n",
        "\n",
        "for ind1 in range(dim1): # Iteramos sobre los indices de los renglones\n",
        "    for ind2 in range(dim2): # Y, dentro de cada renglon, iteramos sobre las columnas\n",
        "        if canal_rojo[ind1, ind2] > 0.99: # Si el pixel satisface la condicion,\n",
        "            img_copy[ind1, ind2, 0] = 0   # lo cambiamos al color negro (R=G=B=0)\n",
        "            img_copy[ind1, ind2, 1] = 0\n",
        "            img_copy[ind1, ind2, 2] = 0"
      ]
    },
    {
      "cell_type": "code",
      "execution_count": null,
      "metadata": {
        "id": "Q5kgX0FzJagF"
      },
      "outputs": [],
      "source": [
        "# Aquí mostramos la imagen original\n",
        "plt.imshow(img)\n",
        "plt.axis(\"off\")"
      ]
    },
    {
      "cell_type": "code",
      "execution_count": null,
      "metadata": {
        "id": "jocGzR4kJagF"
      },
      "outputs": [],
      "source": [
        "# Aquí mostramos la imagen modificada. ¡Observa que parte del\n",
        "# amarillo/naranja tambien satisface la condición!\n",
        "plt.imshow(img_copy)\n",
        "plt.axis(\"off\")"
      ]
    },
    {
      "cell_type": "markdown",
      "metadata": {
        "id": "bNHrZkM6JagF"
      },
      "source": [
        "**Ejercicio:**\n",
        "- Ahora, escribe líneas de código para cambiar todos los pixeles que tengan un valor en el canal azul mayor que 0.8 al color blanco.\n",
        "- Recuerda que tienes que primero hacer una copia de la imagen original `img`."
      ]
    },
    {
      "cell_type": "code",
      "source": [],
      "metadata": {
        "id": "Wm-BWnJACvfh"
      },
      "execution_count": null,
      "outputs": []
    },
    {
      "cell_type": "code",
      "source": [],
      "metadata": {
        "id": "v3SZduVuCvSh"
      },
      "execution_count": null,
      "outputs": []
    },
    {
      "cell_type": "markdown",
      "metadata": {
        "id": "yeygMHTqDVcf"
      },
      "source": [
        "## **Sección II**"
      ]
    },
    {
      "cell_type": "markdown",
      "source": [
        "\n",
        "### **Convoluciones en imágenes**\n",
        "\n",
        "Exploremos qué sucede cuando barremos un filtro (kernel) sobre una imagen utilizando una convolución.\n",
        "\n",
        "**Spoiler:** Intentemos escalar posibles resultados al tener muchos filtros dentro de una red neuronal."
      ],
      "metadata": {
        "id": "jJdHo17RAp4S"
      }
    },
    {
      "cell_type": "code",
      "metadata": {
        "id": "2kdal-XjznDC"
      },
      "source": [
        "import numpy as np\n",
        "from scipy import datasets\n",
        "import matplotlib.pyplot as plt\n",
        "\n",
        "\n",
        "# We load a sample image\n",
        "img = datasets.ascent()\n",
        "\n",
        "plt.imshow(img, cmap='gray')\n",
        "plt.grid(False)\n",
        "plt.axis('off')\n",
        "plt.show()"
      ],
      "execution_count": null,
      "outputs": []
    },
    {
      "cell_type": "markdown",
      "source": [
        "Creamos una copia de la imagen."
      ],
      "metadata": {
        "id": "Mbmr-R6Yyv36"
      }
    },
    {
      "cell_type": "code",
      "source": [
        "img_transformed = np.copy(img)\n",
        "size_x = img_transformed.shape[0]\n",
        "size_y = img_transformed.shape[1]"
      ],
      "metadata": {
        "id": "HNcuUIMjx_VM"
      },
      "execution_count": null,
      "outputs": []
    },
    {
      "cell_type": "markdown",
      "source": [
        "Definimos un filtro a utilizar."
      ],
      "metadata": {
        "id": "2nqmKQ94yxX5"
      }
    },
    {
      "cell_type": "code",
      "source": [
        "# Let's experiment with different values\n",
        "\n",
        "filter = [[1, 2, 1], [2, 4, 2], [1, 2, 1]]\n",
        "# filter = [[-1, -2, -1], [0, 0, 0], [1, 2, 1]]\n",
        "# filter = [[-1, 0, 1], [-2, 0, 2], [-1, 0, 1]]\n",
        "\n",
        "weight = 1 / 8"
      ],
      "metadata": {
        "id": "ckPpotCCyIKB"
      },
      "execution_count": null,
      "outputs": []
    },
    {
      "cell_type": "markdown",
      "source": [
        "Realizamos las operaciones."
      ],
      "metadata": {
        "id": "B_jvUdSOyy_V"
      }
    },
    {
      "cell_type": "code",
      "source": [
        "for x in range(1, size_x - 1):\n",
        "  for y in range(1, size_y - 1):\n",
        "      convolution = 0.0\n",
        "      convolution = convolution + (img[x - 1, y - 1] * filter[0][0])\n",
        "      convolution = convolution + (img[x, y - 1] * filter[0][1])\n",
        "      convolution = convolution + (img[x + 1, y - 1] * filter[0][2])\n",
        "      convolution = convolution + (img[x - 1, y] * filter[1][0])\n",
        "      convolution = convolution + (img[x, y] * filter[1][1])\n",
        "      convolution = convolution + (img[x + 1, y] * filter[1][2])\n",
        "      convolution = convolution + (img[x - 1, y + 1] * filter[2][0])\n",
        "      convolution = convolution + (img[x, y + 1] * filter[2][1])\n",
        "      convolution = convolution + (img[x + 1, y + 1] * filter[2][2])\n",
        "      convolution = convolution * weight\n",
        "\n",
        "      if convolution < 0:\n",
        "        convolution = 0\n",
        "      if convolution > 255:\n",
        "        convolution = 255\n",
        "\n",
        "      img_transformed[x, y] = convolution"
      ],
      "metadata": {
        "id": "4LQtpt51yKvk"
      },
      "execution_count": null,
      "outputs": []
    },
    {
      "cell_type": "markdown",
      "source": [
        "Veamos los resultados de convolución."
      ],
      "metadata": {
        "id": "9W8I0UdWy1hB"
      }
    },
    {
      "cell_type": "code",
      "source": [
        "plt.imshow(img_transformed, cmap='gray')\n",
        "plt.grid(False)\n",
        "plt.axis('off')\n",
        "plt.show()"
      ],
      "metadata": {
        "id": "X4k5e1TnyM9c"
      },
      "execution_count": null,
      "outputs": []
    },
    {
      "cell_type": "markdown",
      "source": [
        "\n",
        "### **Pooling en imágenes**\n",
        "\n",
        "Exploremos qué sucede cuando reducimos la información de una imagen a través de pooling.\n"
      ],
      "metadata": {
        "id": "u_KzB9X-BYH2"
      }
    },
    {
      "cell_type": "code",
      "source": [
        "import numpy as np\n",
        "import skimage.measure\n",
        "\n",
        "\n",
        "img_transformed = np.copy(img)\n",
        "\n",
        "plt.imshow(img_transformed, cmap='gray')\n",
        "plt.grid(False)\n",
        "plt.axis('off')\n",
        "plt.show()"
      ],
      "metadata": {
        "id": "QHbJKpQaBJD4"
      },
      "execution_count": null,
      "outputs": []
    },
    {
      "cell_type": "code",
      "source": [
        "img.shape"
      ],
      "metadata": {
        "id": "0HgJEJgOFN6p"
      },
      "execution_count": null,
      "outputs": []
    },
    {
      "cell_type": "code",
      "source": [
        "img_transformed = skimage.measure.block_reduce(img_transformed, (2,2), np.max)\n",
        "\n",
        "plt.imshow(img_transformed, cmap='gray')\n",
        "plt.grid(False)\n",
        "plt.axis('off')\n",
        "plt.show()"
      ],
      "metadata": {
        "id": "XVFt1epVBvew"
      },
      "execution_count": null,
      "outputs": []
    },
    {
      "cell_type": "code",
      "source": [
        "img_transformed.shape"
      ],
      "metadata": {
        "id": "THZUEY2LFRma"
      },
      "execution_count": null,
      "outputs": []
    },
    {
      "cell_type": "markdown",
      "source": [
        "\n",
        "### **Redes neuronales convolucionales**\n",
        "\n",
        "**Spoiler:** Nuevamente, intentemos escalar posibles resultados al tener muchos filtros dentro de una red neuronal.\n",
        "\n",
        "Para ello, crearemos un modelo de red neuronal convolucional profunda, que utilice, precisamente, convoluciones en sus capas.\n",
        "\n",
        "Nos basaremos en un modelo LeNet5 propuesto por un gran investigador, Yann LeCun:\n",
        "\n",
        "<center>\n",
        "    <img src=\"https://www.datasciencecentral.com/wp-content/uploads/2021/10/1lvvWF48t7cyRWqct13eU0w.jpeg\" width=\"60%\">\n",
        "</center>"
      ],
      "metadata": {
        "id": "WCO2eFvsCOVs"
      }
    },
    {
      "cell_type": "markdown",
      "source": [
        "Utilizaremos los datos de Fashion MNIST, los cuales están disponibles directamente en la API de conjuntos de datos de `tf.keras`. Llamar a load_data en este objeto nos dará dos conjuntos con los valores de entrenamiento y prueba para los gráficos que contienen las prendas y sus etiquetas."
      ],
      "metadata": {
        "id": "p0-n3OCyuoQV"
      }
    },
    {
      "cell_type": "code",
      "source": [
        "import tensorflow as tf\n",
        "\n",
        "fashion_mnist = tf.keras.datasets.fashion_mnist\n",
        "(training_images, training_labels), (test_images, test_labels) = fashion_mnist.load_data()"
      ],
      "metadata": {
        "id": "WEV21IJJvqEu"
      },
      "execution_count": null,
      "outputs": []
    },
    {
      "cell_type": "markdown",
      "source": [
        "¿Cómo se ven estos valores? Despleguemos una imagen de entrenamiento y una etiqueta de entrenamiento para saber."
      ],
      "metadata": {
        "id": "dfvbC_UewVZL"
      }
    },
    {
      "cell_type": "code",
      "source": [
        "import numpy as np\n",
        "import matplotlib.pyplot as plt\n",
        "np.set_printoptions(linewidth=200)\n",
        "\n",
        "\n",
        "# Set index of image to be seen\n",
        "img_index = 3000 # 6000 -1\n",
        "\n",
        "# Plot image\n",
        "plt.imshow(training_images[img_index], cmap='gray')\n",
        "plt.axis(False)\n",
        "\n",
        "print(\"Label:\", training_labels[img_index])\n",
        "print(\"Matrix:\", training_images[img_index])"
      ],
      "metadata": {
        "id": "m8lf8r2IvvQQ"
      },
      "execution_count": null,
      "outputs": []
    },
    {
      "cell_type": "markdown",
      "source": [
        "Notarás que todos los valores están entre 0 y 255. Si estamos entrenando una red neuronal, por varias razones es más fácil si transformamos los valores para tratar todos con valores entre 0 y 1."
      ],
      "metadata": {
        "id": "iNlmvxJ7wagU"
      }
    },
    {
      "cell_type": "code",
      "source": [
        "training_images  = training_images / 255.0\n",
        "test_images = test_images / 255.0"
      ],
      "metadata": {
        "id": "DA7Oh9Kov3we"
      },
      "execution_count": null,
      "outputs": []
    },
    {
      "cell_type": "markdown",
      "source": [
        "Notemos que cada imagen es sólo una matriz de 28x28 pixeles, sólo con 1 canal de color."
      ],
      "metadata": {
        "id": "zURylVeHwpiV"
      }
    },
    {
      "cell_type": "code",
      "source": [
        "training_images[0].shape"
      ],
      "metadata": {
        "id": "wnwJemqkwoDa"
      },
      "execution_count": null,
      "outputs": []
    },
    {
      "cell_type": "code",
      "source": [
        "cnn_model = tf.keras.models.Sequential([\n",
        "    tf.keras.layers.Input((28, 28, 1)),\n",
        "\n",
        "    # First conv layer + subsampling\n",
        "    tf.keras.layers.Conv2D(64, (3, 3), activation='relu'),\n",
        "    tf.keras.layers.MaxPooling2D(2, 2),\n",
        "\n",
        "    # Second conv layer + subsampling\n",
        "    # TODO. Conv2D -> 256, (3, 3), ReLU\n",
        "    # TODO. MaxPool\n",
        "\n",
        "    # Third layer (flatten)\n",
        "    tf.keras.layers.Flatten(),\n",
        "\n",
        "    # Fourth layer (dense)\n",
        "    # TODO. Dense -> 128, ReLU\n",
        "\n",
        "    # Fifth layer (output)\n",
        "    tf.keras.layers.Dense(10, activation='softmax')\n",
        "])"
      ],
      "metadata": {
        "id": "stCt0xNzzk_V"
      },
      "execution_count": null,
      "outputs": []
    },
    {
      "cell_type": "code",
      "source": [
        "cnn_model.compile(\n",
        "    optimizer=tf.optimizers.SGD(),\n",
        "    loss='sparse_categorical_crossentropy',\n",
        "    metrics=['accuracy']\n",
        ")"
      ],
      "metadata": {
        "id": "Q85XFofVzskY"
      },
      "execution_count": null,
      "outputs": []
    },
    {
      "cell_type": "code",
      "source": [
        "cnn_model.fit(training_images, training_labels, epochs=2)"
      ],
      "metadata": {
        "id": "ZwGZ6QBgz7Xh"
      },
      "execution_count": null,
      "outputs": []
    },
    {
      "cell_type": "code",
      "source": [
        "cnn_model.evaluate(test_images, test_labels)"
      ],
      "metadata": {
        "id": "6Uxhd3HVz88g"
      },
      "execution_count": null,
      "outputs": []
    },
    {
      "cell_type": "code",
      "source": [
        "import random\n",
        "\n",
        "test_index = random.randint(0, 10000 - 1)\n",
        "\n",
        "plt.imshow(test_images[test_index], cmap='gray')\n",
        "plt.axis(False)\n",
        "\n",
        "print(\"Label:\", test_labels[test_index])\n",
        "input_image = np.reshape(test_images[test_index], (1, 28, 28, 1))\n",
        "prediction = cnn_model.predict(input_image)\n",
        "print(\"Prediction:\", np.argmax(prediction))"
      ],
      "metadata": {
        "id": "MXzIcx4Kz-b6"
      },
      "execution_count": null,
      "outputs": []
    },
    {
      "cell_type": "markdown",
      "source": [
        "**Reto:** ¿Puedes mejorar aún más el modelo?\n",
        "\n",
        "Te recomiendo explorar lo siguiente:\n",
        "- Modifica el número de capas y parámetros de convolución por capa\n",
        "- Modifica el número de épocas de entrenamiento\n",
        "- Explora resultados con otros conjuntos de datos\n",
        "- ¿Exportar modelos entrenados? Ojo: https://www.tensorflow.org/guide/keras/save_and_serialize?hl=es-419"
      ],
      "metadata": {
        "id": "8U1tdrMYlDen"
      }
    },
    {
      "cell_type": "markdown",
      "source": [
        "> **Para resolver la tarea, el reto es:** Mejor accuracy obtenido en la clase.\n",
        "\n",
        "**Puedes explorar:**\n",
        "- El número de capas.\n",
        "- Las épocas de entrenamiento.\n",
        "- Las funciones de activación.\n",
        "- Investigar otras capas."
      ],
      "metadata": {
        "id": "QKp_PZ_NDqbS"
      }
    },
    {
      "cell_type": "markdown",
      "metadata": {
        "id": "hSdbQU3e6-Ky"
      },
      "source": [
        "--------\n",
        "\n",
        "> Contenido creado por **Rodolfo Ferro**, 2024. <br>\n",
        "> Para cualquier retroalimentación, puedes contactarme a través del correo [ferro@cimat.mx](mailto:ferro@cimat.mx)."
      ]
    }
  ]
}