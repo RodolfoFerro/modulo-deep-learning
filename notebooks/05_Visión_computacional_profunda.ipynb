{
  "nbformat": 4,
  "nbformat_minor": 0,
  "metadata": {
    "colab": {
      "provenance": [],
      "include_colab_link": true
    },
    "kernelspec": {
      "name": "python3",
      "display_name": "Python 3"
    },
    "accelerator": "GPU"
  },
  "cells": [
    {
      "cell_type": "markdown",
      "metadata": {
        "id": "view-in-github",
        "colab_type": "text"
      },
      "source": [
        "<a href=\"https://colab.research.google.com/github/RodolfoFerro/modulo-deep-learning/blob/main/notebooks/05_Visi%C3%B3n_computacional_profunda.ipynb\" target=\"_parent\"><img src=\"https://colab.research.google.com/assets/colab-badge.svg\" alt=\"Open In Colab\"/></a>"
      ]
    },
    {
      "cell_type": "markdown",
      "metadata": {
        "id": "R6jO_1gISKxk"
      },
      "source": [
        "# **Aprendizaje profundo - Sesión 5  🧠**\n",
        "\n",
        "> **Descripción:** Cuaderno de contenidos del módulo de aprendizaje profundo para el Dimplomado en Ciencia de Datos de la ENES UNAM León, 2024. <br>\n",
        "> **Autor:** [Rodolfo Ferro](https://github.com/RodolfoFerro) <br>\n",
        "> **Contacto:** [ferro@cimat.mx](mailto:ferro@cimat.mx)\n",
        "\n",
        "## Contenido\n",
        "\n",
        "### Preámbulo\n",
        "\n",
        "- Introducción a la reconstrucción de imágenes\n",
        "\n",
        "### Sección I\n",
        "\n",
        "1. Introducción a los autoencoders\n",
        "2. Estructura básica de un autoencoder\n",
        "3. Funcionamiento de un autoencoder\n",
        "\n",
        "\n",
        "### Sección II\n",
        "\n",
        "4. Limitaciones de los autoencoders básicos\n",
        "5. Introducción a los autoencoders convolucionales\n",
        "6. Estructura de los autoencoders convolucionales\n",
        "\n",
        "### Sección III\n",
        "\n",
        "7. Implementación y entrenamiento de los autoencoders convolucionales\n",
        "8. Aplicaciones de los autoencoders convolucionales en el denoising de imágenes\n",
        "9. Trabajos relacionados y avances recientes\n",
        "\n",
        "### Sección IV - ¡Extra!\n",
        "\n",
        "10. Segmentación de imágenes\n",
        "11. Implementación de U-Net\n",
        "\n"
      ]
    },
    {
      "cell_type": "markdown",
      "metadata": {
        "id": "xNVG2PnSEtQN"
      },
      "source": [
        "## **Preámbulo**"
      ]
    },
    {
      "cell_type": "markdown",
      "source": [
        "### Introducción a la reconstrucción de imágenes\n",
        "\n",
        "\n",
        "- Proceso de generar una imagen de salida a partir de una de entrada, generalmente con el objetivo de **restaurar o mejorar la calidad de la imagen original**.\n",
        "- En el contexto de los autoencoders y la tarea de denoising, la reconstrucción implica generar una versión limpia y libre de ruido de una imagen ruidosa o de baja calidad.\n",
        "\n",
        "Es útil y ayuda para:\n",
        "- Restauración de la calidad visual.\n",
        "- Preservación de la información relevante.\n",
        "- Mejora de aplicaciones y análisis (eliminación de ruido).\n",
        "- Preservación de características y texturas.\n",
        "- Calidad y experiencia visual.\n",
        "\n",
        "<center>\n",
        "    <img src=\"https://miro.medium.com/v2/resize:fit:4800/format:webp/0*ZE8YXDof_MVxk43k.png\" width=\"50%\">\n",
        "</center>"
      ],
      "metadata": {
        "id": "IOOWWpUv32iz"
      }
    },
    {
      "cell_type": "markdown",
      "metadata": {
        "id": "VS_zSehl30t1"
      },
      "source": [
        "## **Sección I**"
      ]
    },
    {
      "cell_type": "markdown",
      "source": [
        "### Introducción a los autoencoders\n",
        "\n",
        "Son ANNs utilizadas para aprender representaciones eficientes de los datos de entrada sin necesidad de etiquetas o supervisión externa."
      ],
      "metadata": {
        "id": "2k4ZBY7drHpQ"
      }
    },
    {
      "cell_type": "markdown",
      "source": [
        "### Estructura básica y funcionamiento de un autoencoder\n",
        "\n",
        "Están diseñadas para aprender representaciones eficientes de los datos de entrada mediante un proceso de compresión y descompresión.\n",
        "\n",
        "Las partes fundamentales son el encoder y el decoder.\n",
        "\n",
        "<center>\n",
        "    <img src=\"https://lilianweng.github.io/posts/2018-08-12-vae/autoencoder-architecture.png\" width=\"70%\">\n",
        "</center>\n",
        "\n",
        "#### Encoder\n",
        "\n",
        "- **Encoder:** Toma los datos de entrada y los transforma en una representación de menor dimensionalidad, también conocida como representación latente.\n",
        "- **El objetivo del codificador es…** Comprimir la información esencial de los datos en esta representación latente.\n",
        "- **Usualmente**, el codificador está compuesto por capas de neuronas que reducen gradualmente la dimensionalidad de los datos a medida que se propagan a través de la red. Este proceso de reducción dimensional es crucial para extraer las características más importantes de los datos y deshacerse de la información redundante o ruidosa.\n",
        "\n",
        "#### Decoder\n",
        "\n",
        "- **Decoder:** Toma la representación latente generada y la reconstruye en una salida que se asemeja lo más posible a la entrada original.\n",
        "- **El objetivo del decodificador es…** Descomprimir la representación latente y generar una reconstrucción fiel de los datos de entrada.\n",
        "- **Al igual que el encoder**, el decodificador está compuesto por capas de neuronas, pero en este caso, las capas aumentan gradualmente la dimensionalidad de la representación latente hasta que se obtiene una salida de la misma dimensión que los datos de entrada originales.\n",
        "\n",
        "**La idea central es que**, al restringir la capacidad de reconstrucción de la red, se obliga al codificador a aprender representaciones más compactas y significativas de los datos.\n",
        "\n",
        "**En otras palabras**, se busca que el codificador capture las características más importantes y relevantes de los datos en la representación latente, mientras que el decodificador se encarga de reconstruir los datos de entrada a partir de esa representación latente.\n",
        "\n",
        "#### Aplicaicones de autoencoders\n",
        "\n",
        "- **Denoising de imágenes:** Se utilizan para eliminar el ruido de las imágenes y reconstruir versiones más limpias.\n",
        "Generación de contenido: Pueden generar contenido nuevo y original aprendiendo las características latentes de un conjunto de datos. Esto se utiliza en aplicaciones como la generación de imágenes sintéticas, la creación de música o la generación de texto.\n",
        "- **Detección de anomalías:** Se utilizan para detectar patrones anormales o inusuales en los datos. Esto se aplica en áreas como la detección de fraudes en transacciones financieras, la detección de intrusiones en sistemas de seguridad o la detección de anomalías en imágenes médicas.\n",
        "- **Reducción de dimensionalidad:** Los autoencoders se utilizan para reducir la dimensionalidad de los datos, lo que facilita la visualización y comprensión de datos complejos. Esto es útil en análisis exploratorio de datos, visualización de datos de gran dimensión y clustering.\n",
        "\n",
        "#### Aprendizaje\n",
        "\n",
        "- **Aprendizaje:** Durante el entrenamiento de los autoencoders, se utilizan pares de datos de entrada y salida correspondientes.\n",
        "- La red se entrena para **minimizar** la diferencia entre la entrada original y la salida reconstruida.."
      ],
      "metadata": {
        "id": "5dy-RQOw4kQj"
      }
    },
    {
      "cell_type": "code",
      "source": [
        "import matplotlib.pyplot as plt\n",
        "import numpy as np\n",
        "import tensorflow as tf\n",
        "\n",
        "from tensorflow.keras.datasets import fashion_mnist\n",
        "from tensorflow.keras.models import Model\n",
        "from tensorflow.keras import layers"
      ],
      "metadata": {
        "id": "1kb3YuuW51-b"
      },
      "execution_count": null,
      "outputs": []
    },
    {
      "cell_type": "markdown",
      "source": [
        "Cargamos los datos."
      ],
      "metadata": {
        "id": "1RbMybth8xL5"
      }
    },
    {
      "cell_type": "code",
      "source": [
        "(x_train, _), (x_test, _) = fashion_mnist.load_data()\n",
        "\n",
        "x_train = x_train.astype('float32') / 255.\n",
        "x_test = x_test.astype('float32') / 255.\n",
        "\n",
        "print (x_train.shape)\n",
        "print (x_test.shape)"
      ],
      "metadata": {
        "id": "58k-OiKs7WQW"
      },
      "execution_count": null,
      "outputs": []
    },
    {
      "cell_type": "code",
      "source": [
        "plt.imshow(x_train[0], cmap='gray')"
      ],
      "metadata": {
        "id": "Hr5CjhCK-Asn"
      },
      "execution_count": null,
      "outputs": []
    },
    {
      "cell_type": "markdown",
      "source": [
        "Creamos la clase Autoencoder con TensorFlow."
      ],
      "metadata": {
        "id": "_9VwrJXJ8YSy"
      }
    },
    {
      "cell_type": "code",
      "source": [
        "class Autoencoder(Model):\n",
        "    def __init__(self, latent_dim):\n",
        "        super(Autoencoder, self).__init__()\n",
        "        self.latent_dim = latent_dim\n",
        "\n",
        "        # Construimos el encoder\n",
        "        self.encoder = tf.keras.Sequential([\n",
        "\n",
        "            # TODO: Añade una capa Flatten\n",
        "\n",
        "            # TODO: Añade una capa Dense -> latent_dim, ReLU\n",
        "\n",
        "        ])\n",
        "\n",
        "        # Construimos el decoder\n",
        "        self.decoder = tf.keras.Sequential([\n",
        "\n",
        "            # TODO: Añade una capa Dense -> 784, Sigmoid\n",
        "\n",
        "            # TODO: Añade una capa Reshape -> (28, 28)\n",
        "\n",
        "        ])\n",
        "\n",
        "    def call(self, x):\n",
        "        # Esta función nos permite invocar los sub modelos\n",
        "        # para poder hacer inferencia sobre cada uno (predict)\n",
        "        encoded = self.encoder(x)\n",
        "        decoded = self.decoder(encoded)\n",
        "\n",
        "        return decoded"
      ],
      "metadata": {
        "id": "1qeFNIHw7i4u"
      },
      "execution_count": null,
      "outputs": []
    },
    {
      "cell_type": "markdown",
      "source": [
        "Definimos parámetros y creamos un autoencoder."
      ],
      "metadata": {
        "id": "Kx5QY8uY8qSj"
      }
    },
    {
      "cell_type": "code",
      "source": [
        "# Definimos dimensión de espacio latente\n",
        "latent_dim = 64\n",
        "\n",
        "# Instanciamos un autoencoder\n",
        "autoencoder = Autoencoder(latent_dim)"
      ],
      "metadata": {
        "id": "ZO8FSy2S7pXj"
      },
      "execution_count": null,
      "outputs": []
    },
    {
      "cell_type": "markdown",
      "source": [
        "Compilamos y entrenamos."
      ],
      "metadata": {
        "id": "GjfNJhov8tYX"
      }
    },
    {
      "cell_type": "code",
      "source": [
        "autoencoder.compile(optimizer='adam', loss='mse')\n",
        "\n",
        "history = autoencoder.fit(x_train, x_train,\n",
        "                          epochs=10,\n",
        "                          shuffle=True,\n",
        "                          validation_data=(x_test, x_test))"
      ],
      "metadata": {
        "id": "Si_2tc2u8is5"
      },
      "execution_count": null,
      "outputs": []
    },
    {
      "cell_type": "code",
      "source": [
        "autoencoder.summary()"
      ],
      "metadata": {
        "id": "mZexUsya-dwM"
      },
      "execution_count": null,
      "outputs": []
    },
    {
      "cell_type": "code",
      "source": [
        "import plotly.graph_objects as go\n",
        "\n",
        "\n",
        "seen = 'loss' # or 'loss'\n",
        "\n",
        "hist_values = history.history[seen]\n",
        "hist_values_val = history.history['val_' + seen]\n",
        "eje_x = np.arange(len(hist_values))\n",
        "\n",
        "fig = go.Figure()\n",
        "\n",
        "fig.add_trace(go.Scatter(x=eje_x,\n",
        "                         y=hist_values,\n",
        "                         mode='lines',\n",
        "                         name=seen))\n",
        "fig.add_trace(go.Scatter(x=eje_x,\n",
        "                         y=hist_values_val,\n",
        "                         mode='lines',\n",
        "                         name='val_' + seen))\n",
        "fig.update_layout(title='Historia de entrenamiento',\n",
        "                   xaxis_title='Épocas',\n",
        "                   yaxis_title=seen.capitalize())\n",
        "fig.show()"
      ],
      "metadata": {
        "id": "-YNmdDVIFwRf"
      },
      "execution_count": null,
      "outputs": []
    },
    {
      "cell_type": "markdown",
      "source": [
        "Exploramos los resultados."
      ],
      "metadata": {
        "id": "sUdWJBEO8vC6"
      }
    },
    {
      "cell_type": "code",
      "source": [
        "encoded_imgs = autoencoder.encoder(x_test).numpy()\n",
        "decoded_imgs = autoencoder.decoder(encoded_imgs).numpy()"
      ],
      "metadata": {
        "id": "Y8ZfJ8J__j5f"
      },
      "execution_count": null,
      "outputs": []
    },
    {
      "cell_type": "code",
      "source": [
        "n = 10\n",
        "plt.figure(figsize=(20, 4))\n",
        "\n",
        "for i in range(n):\n",
        "    # Mostramos imagen original\n",
        "    ax = plt.subplot(2, n, i + 1)\n",
        "    plt.imshow(x_test[i + 121])\n",
        "    plt.title(\"Original\")\n",
        "    plt.gray()\n",
        "    ax.get_xaxis().set_visible(False)\n",
        "    ax.get_yaxis().set_visible(False)\n",
        "\n",
        "    # Mostramos imagen reconstruida\n",
        "    ax = plt.subplot(2, n, i + 1 + n)\n",
        "    plt.imshow(decoded_imgs[i + 121])\n",
        "    plt.title(\"Reconstruida\")\n",
        "    plt.gray()\n",
        "    ax.get_xaxis().set_visible(False)\n",
        "    ax.get_yaxis().set_visible(False)\n",
        "\n",
        "plt.show()"
      ],
      "metadata": {
        "id": "DF9NFmQ-7q_l"
      },
      "execution_count": null,
      "outputs": []
    },
    {
      "cell_type": "markdown",
      "source": [
        "**Reto:** ¿Puedes mejorar aún más las reconstrucciones?\n",
        "\n",
        "Te recomiendo explorar lo siguiente:\n",
        "- Modifica el número de capas y neuronas por capa. Recuerda que debe ir disminuyendo en el encoder y aumentando en el decoder y deben tener una estructura espejeada.\n",
        "- Modifica el número de épocas de entrenamiento.\n",
        "- ¿Quieres intentar reconstruir cosas con convoluciones? Te invito a que lo intentes.\n",
        "\n",
        "\n",
        "**Lecturas recomendadas:**\n",
        "- [A 2021 Guide to improving CNNs-Optimizers: Adam vs SGD](https://medium.com/geekculture/a-2021-guide-to-improving-cnns-optimizers-adam-vs-sgd-495848ac6008)"
      ],
      "metadata": {
        "id": "7r1Tx5AyBAK3"
      }
    },
    {
      "cell_type": "markdown",
      "metadata": {
        "id": "Rtpuj0PBqWYc"
      },
      "source": [
        "## **Sección II**"
      ]
    },
    {
      "cell_type": "markdown",
      "source": [
        "\n",
        "### Limitaciones de autoencoders básicos\n",
        "\n",
        "- **Incapacidad para capturar información espacial:** Los autoencoders básicos pueden tener dificultades para capturar la estructura espacial de las imágenes, ya que no tienen en cuenta la información de vecindad de los píxeles.\n",
        "- **Sensibilidad a las transformaciones:** Pueden ser sensibles a las transformaciones geométricas, como la rotación o el desplazamiento de la imagen, lo que puede afectar su capacidad de reconstrucción.\n",
        "- **Autoencoders convolucionales como solución:** Son una variante de los autoencoders que incorporan capas convolucionales para abordar las limitaciones mencionadas.\n",
        "- **Ventajas de los autoencoders convolucionales:** Mejoran con la capacidad para capturar algunas características espaciales, preservar la estructura y ser más robustos frente a transformaciones geométricas\n",
        "\n"
      ],
      "metadata": {
        "id": "jJdHo17RAp4S"
      }
    },
    {
      "cell_type": "markdown",
      "source": [
        "### Autoencoders convolucionales\n",
        "\n",
        "La estructura de un autoencoder convolucional consta de dos partes principales: el codificador (encoder) y el decodificador (decoder). Cada una de estas partes está compuesta por capas convolucionales, capas de muestreo y, en algunos casos, capas de convolución transpuesta o de upsampling.\n",
        "\n",
        "<center>\n",
        "    <img src=\"https://miro.medium.com/v2/resize:fit:4800/format:webp/1*TOJD69Y8dZsKFEW-21xUPg.png\" width=\"70%\">\n",
        "</center>\n",
        "\n",
        "#### Encoder\n",
        "\n",
        "- **Capas convolucionales:** Estas capas utilizan filtros convolucionales para extraer características de nivel superior de la entrada.\n",
        "- **Capas de pooling:** Estas capas reducen la dimensionalidad de las características extraídas al realizar un muestreo o reducción de tamaño, como el max pooling.\n",
        "- **Funciones de activación:** Después de cada capa convolucional y de muestreo, se aplica una función de activación no lineal, como la función ReLU (Rectified Linear Unit), para introducir no linealidad en la red.\n",
        "\n",
        "#### Espacio latente\n",
        "\n",
        "- **Capa de aplanamiento:** Antes de llegar al espacio latente, la salida del codificador se aplanará en un vector unidimensional.\n",
        "- **Capa densa (fully connected):** La capa densa o fully connected reduce aún más la dimensionalidad y mapea las características a un espacio latente de menor dimensión. Esta capa suele tener una función de activación, como la ReLU o la tangente hiperbólica.\n",
        "\n",
        "#### Decoder\n",
        "\n",
        "- **Capas densas (fully connected):** En el decodificador, se utilizan capas densas para aumentar gradualmente la dimensionalidad del espacio latente y reconstruir las características originales.\n",
        "- **Capas de convolución transpuesta o upsampling:** Estas capas realizan la operación inversa de las capas de muestreo, aumentando gradualmente el tamaño espacial de las características.\n",
        "- **Capas de convolución:** Al final del decodificador, se utilizan capas convolucionales para generar una salida final con las mismas dimensiones que la entrada original.\n",
        "- **Función de activación final:** La función de activación final depende del rango de valores de la imagen de salida. Por ejemplo, en imágenes en escala de grises, se puede utilizar una función de activación sigmoide para obtener valores entre 0 y 1.\n",
        "\n",
        "La estructura del autoencoder convolucional puede variar según la tarea específica y los requisitos del problema. Se pueden agregar capas adicionales, como capas de regularización, capas de normalización o capas de convolución dilatadas, para mejorar el rendimiento y la capacidad de generalización del modelo."
      ],
      "metadata": {
        "id": "Vs8JZj5D6Jgx"
      }
    },
    {
      "cell_type": "markdown",
      "metadata": {
        "id": "8KKqdPJBCU_E"
      },
      "source": [
        "## **Sección III**"
      ]
    },
    {
      "cell_type": "markdown",
      "source": [
        "\n",
        "### Implementación y entrenamiento de los autoencoders convolucionales"
      ],
      "metadata": {
        "id": "WCO2eFvsCOVs"
      }
    },
    {
      "cell_type": "code",
      "source": [
        "class Denoise(Model):\n",
        "    def __init__(self):\n",
        "        super(Denoise, self).__init__()\n",
        "\n",
        "        # Creamos el encoder convolucional\n",
        "        self.encoder = tf.keras.Sequential([\n",
        "\n",
        "            # TODO: Añade una capa Input -> shape=(28, 28, 1)\n",
        "\n",
        "            # TODO: Añade una capa Conv2D -> 16, (3, 3), activation='relu', padding='same', strides=2\n",
        "\n",
        "            # TODO: Añade una capa Conv2D -> 8, (3, 3), activation='relu', padding='same', strides=2\n",
        "\n",
        "        ])\n",
        "\n",
        "        # Creamos el decoder convolucional\n",
        "        self.decoder = tf.keras.Sequential([\n",
        "\n",
        "            # TODO: Añade una capa Conv2DTranspose -> 8, kernel_size=3, activation='relu', padding='same', strides=2\n",
        "\n",
        "            # TODO: Añade una capa Conv2DTranspose -> 16, kernel_size=3, activation='relu', padding='same', strides=2\n",
        "\n",
        "            # TODO: Añade una capa Conv2D -> 1, (3, 3), activation='sigmoid', padding='same'\n",
        "\n",
        "        ])\n",
        "\n",
        "    def call(self, x):\n",
        "        # Esta función nos permite invocar los sub modelos\n",
        "        # para poder hacer inferencia sobre cada uno (predict)\n",
        "        encoded = self.encoder(x)\n",
        "        decoded = self.decoder(encoded)\n",
        "\n",
        "        return decoded"
      ],
      "metadata": {
        "id": "stCt0xNzzk_V"
      },
      "execution_count": null,
      "outputs": []
    },
    {
      "cell_type": "markdown",
      "source": [
        "**Lecturas recomendadas:**\n",
        "\n",
        "- [Convolution, Padding, Stride, and Pooling in CNN](https://medium.com/analytics-vidhya/convolution-padding-stride-and-pooling-in-cnn-13dc1f3ada26)\n",
        "- [Why do we need conv2d_transpose?\n",
        "](https://medium.com/@vaibhavshukla182/why-do-we-need-conv2d-transpose-2534cd2a4d98)\n",
        "- [Deconvolution](https://vincmazet.github.io/bip/restoration/deconvolution.html)\n",
        "- [Image Segmentation using deconvolution layer in Tensorflow](https://cv-tricks.com/image-segmentation/transpose-convolution-in-tensorflow/)"
      ],
      "metadata": {
        "id": "l2OVuOuwHqv0"
      }
    },
    {
      "cell_type": "markdown",
      "source": [
        "### Aplicaciones de los autoencoders convolucionales en el denoising de imágenes\n",
        "\n",
        "Para poder explorar un ejemplo de aplicación de autoencoders donde los utilicemos para quitar el ruido de alunas imágenes, volveremos a utilizar el dataset de modas y le agregaremos algo de ruido a las imágenes. De este modo, entrenaremos a la red para que aprenda cómo debe verse una imagen a partir de una con ruido.\n",
        "\n",
        "Cargaremos y preprocesaremos nuevamente los datos."
      ],
      "metadata": {
        "id": "aMBsYpdK6cIN"
      }
    },
    {
      "cell_type": "code",
      "source": [
        "(x_train, _), (x_test, _) = fashion_mnist.load_data()\n",
        "\n",
        "x_train = x_train.astype('float32') / 255.\n",
        "x_test = x_test.astype('float32') / 255.\n",
        "\n",
        "x_train = x_train[..., tf.newaxis]\n",
        "x_test = x_test[..., tf.newaxis]\n",
        "\n",
        "print(x_train.shape)"
      ],
      "metadata": {
        "id": "erEOQdn0C5x1"
      },
      "execution_count": null,
      "outputs": []
    },
    {
      "cell_type": "markdown",
      "source": [
        "Agregamos ruido a los datos."
      ],
      "metadata": {
        "id": "yepxPRZ0DEPB"
      }
    },
    {
      "cell_type": "code",
      "source": [
        "noise_factor = 0.2\n",
        "x_train_noisy = x_train + noise_factor * tf.random.normal(shape=x_train.shape)\n",
        "x_test_noisy = x_test + noise_factor * tf.random.normal(shape=x_test.shape)\n",
        "\n",
        "x_train_noisy = tf.clip_by_value(x_train_noisy, clip_value_min=0., clip_value_max=1.)\n",
        "x_test_noisy = tf.clip_by_value(x_test_noisy, clip_value_min=0., clip_value_max=1.)"
      ],
      "metadata": {
        "id": "NyGaNXfnDDfc"
      },
      "execution_count": null,
      "outputs": []
    },
    {
      "cell_type": "markdown",
      "source": [
        "Podemos explorar cómo se ven los datos con algo de ruido."
      ],
      "metadata": {
        "id": "IaWoRWDsDkou"
      }
    },
    {
      "cell_type": "code",
      "source": [
        "n = 10\n",
        "plt.figure(figsize=(20, 2))\n",
        "for i in range(n):\n",
        "    ax = plt.subplot(1, n, i + 1)\n",
        "    plt.title(\"Original + Ruido\")\n",
        "    plt.imshow(tf.squeeze(x_test_noisy[i]))\n",
        "    plt.gray()\n",
        "    ax.set_xticks([])\n",
        "    ax.set_yticks([])\n",
        "\n",
        "plt.grid(False)"
      ],
      "metadata": {
        "id": "31WxIj_jDkQ8"
      },
      "execution_count": null,
      "outputs": []
    },
    {
      "cell_type": "markdown",
      "source": [
        "Instanciaremos, compilaremos y entrenaremos un nuevo autoencoder llamado \"denoiser\"."
      ],
      "metadata": {
        "id": "vziHzY1CDc7U"
      }
    },
    {
      "cell_type": "code",
      "source": [
        "denoiser = Denoise()"
      ],
      "metadata": {
        "id": "quxg9yeHAdR4"
      },
      "execution_count": null,
      "outputs": []
    },
    {
      "cell_type": "code",
      "source": [
        "denoiser.compile(optimizer='adam', loss='mse')\n",
        "\n",
        "history = denoiser.fit(x_train_noisy, x_train,\n",
        "                       epochs=10,\n",
        "                       shuffle=True,\n",
        "                       validation_data=(x_test_noisy, x_test))"
      ],
      "metadata": {
        "id": "38IRvJY17Ivb"
      },
      "execution_count": null,
      "outputs": []
    },
    {
      "cell_type": "code",
      "source": [
        "import plotly.graph_objects as go\n",
        "\n",
        "\n",
        "seen = 'loss' # or 'loss'\n",
        "\n",
        "hist_values = history.history[seen]\n",
        "hist_values_val = history.history['val_' + seen]\n",
        "eje_x = np.arange(len(hist_values))\n",
        "\n",
        "fig = go.Figure()\n",
        "\n",
        "fig.add_trace(go.Scatter(x=eje_x,\n",
        "                         y=hist_values,\n",
        "                         mode='lines',\n",
        "                         name=seen))\n",
        "fig.add_trace(go.Scatter(x=eje_x,\n",
        "                         y=hist_values_val,\n",
        "                         mode='lines',\n",
        "                         name='val_' + seen))\n",
        "fig.update_layout(title='Historia de entrenamiento',\n",
        "                   xaxis_title='Épocas',\n",
        "                   yaxis_title=seen.capitalize())\n",
        "fig.show()"
      ],
      "metadata": {
        "id": "oMRtH2wTFMPk"
      },
      "execution_count": null,
      "outputs": []
    },
    {
      "cell_type": "markdown",
      "source": [
        "Podemos explorar los detalles de ambos submodelos."
      ],
      "metadata": {
        "id": "USi-p3n5Dsvu"
      }
    },
    {
      "cell_type": "code",
      "source": [
        "denoiser.encoder.summary()"
      ],
      "metadata": {
        "id": "E8UXlSb0DiBk"
      },
      "execution_count": null,
      "outputs": []
    },
    {
      "cell_type": "code",
      "source": [
        "denoiser.decoder.summary()"
      ],
      "metadata": {
        "id": "5LKiHWpSDv_E"
      },
      "execution_count": null,
      "outputs": []
    },
    {
      "cell_type": "markdown",
      "source": [
        "Aplicamos la inferencia sobre las imágenes ruidosas utilizando ambos modelos."
      ],
      "metadata": {
        "id": "KRJUL90BD0Qx"
      }
    },
    {
      "cell_type": "code",
      "source": [
        "encoded_imgs = denoiser.encoder(x_test_noisy).numpy()\n",
        "decoded_imgs = denoiser.decoder(encoded_imgs).numpy()"
      ],
      "metadata": {
        "id": "GzQ4GoZFDxr_"
      },
      "execution_count": null,
      "outputs": []
    },
    {
      "cell_type": "code",
      "source": [
        "n = 10\n",
        "plt.figure(figsize=(20, 6))\n",
        "\n",
        "\n",
        "for i in range(n):\n",
        "\n",
        "    # Mostramos original + ruido\n",
        "    ax = plt.subplot(3, n, i + 1)\n",
        "    plt.title(\"Original + Ruido\")\n",
        "    plt.imshow(tf.squeeze(x_test_noisy[i + 121]))\n",
        "    plt.gray()\n",
        "    ax.get_xaxis().set_visible(False)\n",
        "    ax.get_yaxis().set_visible(False)\n",
        "\n",
        "    # Mostramos reconstrucción\n",
        "    bx = plt.subplot(3, n, i + n + 1)\n",
        "    plt.title(\"Reconstruida\")\n",
        "    plt.imshow(tf.squeeze(decoded_imgs[i + 121]))\n",
        "    plt.gray()\n",
        "    bx.get_xaxis().set_visible(False)\n",
        "    bx.get_yaxis().set_visible(False)\n",
        "\n",
        "    # Mostramos original\n",
        "    cx = plt.subplot(3, n, i + n + n + 1)\n",
        "    plt.title(\"Original\")\n",
        "    plt.imshow(tf.squeeze(x_test[i + 121]))\n",
        "    plt.gray()\n",
        "    cx.get_xaxis().set_visible(False)\n",
        "    cx.get_yaxis().set_visible(False)\n",
        "\n",
        "plt.savefig('imagen_sin_ruido.png', dpi=300)"
      ],
      "metadata": {
        "id": "SdIqgkt1Dzvc"
      },
      "execution_count": null,
      "outputs": []
    },
    {
      "cell_type": "markdown",
      "source": [
        "**Reto:** ¿Puedes mejorar aún más el modelo?\n",
        "\n",
        "Te recomiendo explorar lo siguiente:\n",
        "- Modifica el número de capas y parámetros de convolución por capa.\n",
        "- Modifica el número de épocas de entrenamiento.\n",
        "- Puedes explorar el remover ruido de imágenes con más canales (imágenes RGB) utilizando otros datasets."
      ],
      "metadata": {
        "id": "8U1tdrMYlDen"
      }
    },
    {
      "cell_type": "markdown",
      "source": [
        "### Trabajos relacionados y avances recientes\n",
        "\n",
        "\n",
        "Ha habido varios trabajos de investigación y avances recientes que han contribuido al desarrollo de nuevas arquitecturas, técnicas de entrenamiento mejoradas y aplicaciones emergentes.\n",
        "\n",
        "- **UNet:** Es ampliamente utilizada en el campo de la segmentación de imágenes, pero también se ha aplicado con éxito en tareas de denoising.\n",
        "- **Variational Autoencoders (VAEs):** Los VAEs son una variante de los autoencoders que se utilizan para el aprendizaje de distribuciones latentes. Han demostrado ser efectivos en el denoising de imágenes al aprender representaciones latentes que siguen una distribución probabilística, lo que permite una generación más controlada y realista de imágenes limpias.\n",
        "- **GANs y Autoencoders Generativos (GANs-AE):** La combinación de las GANs y los AE ha llevado al desarrollo de los GANs-AE. Estos modelos aprovechan la capacidad de los GANs para generar imágenes realistas y los autoencoders para aprender representaciones latentes eficientes. Los GANs-AE han demostrado ser efectivos en el denoising y la generación de imágenes de alta calidad.\n",
        "\n",
        "\n",
        "#### **Tareas en el campo de la visión artificial**\n",
        "\n",
        "1. **Clasificación de imágenes:** La tarea de clasificación de imágenes implica asignar una etiqueta o categoría a una imagen de entrada. Esto implica entrenar un modelo para reconocer y distinguir diferentes objetos, personas o escenas en una imagen.\n",
        "2. **Detección de objetos:** La detección de objetos implica localizar y clasificar múltiples objetos en una imagen. El objetivo es detectar la presencia y la ubicación de objetos específicos en una escena, a menudo utilizando cuadros delimitadores para delinear las regiones donde se encuentran los objetos.\n",
        "3. **_Denoising_ o reconstrucción de imágenes:** Consiste en eliminar o reducir el ruido presente en una imagen, obteniendo una versión más limpia y clara. Esta tarea es relevante en áreas como la fotografía, la medicina y la seguridad..\n",
        "4. **Segmentación semántica:** La segmentación semántica implica asignar una etiqueta a cada píxel de una imagen para identificar y delimitar las diferentes regiones o objetos presentes. El objetivo es comprender la estructura y el contenido de una imagen a nivel de píxel.\n",
        "5. **Detección de rostros:** La detección de rostros es una tarea específica de la visión artificial que implica detectar y localizar los rostros en una imagen. Es ampliamente utilizado en aplicaciones de reconocimiento facial, análisis de emociones y sistemas de seguridad.\n",
        "6. **Reconocimiento y verificación facial:** El reconocimiento facial se refiere a la tarea de identificar y reconocer a una persona específica a partir de una imagen o secuencia de imágenes. La verificación facial se enfoca en verificar si una imagen de rostro coincide con una identidad específica.\n",
        "7. **Estimación de pose:** La estimación de pose se refiere a la tarea de determinar la posición y orientación de un objeto o persona en una imagen. Esto implica detectar y rastrear las articulaciones o puntos clave en una imagen para comprender la postura y el movimiento.\n",
        "8. **Estimación de profundidad:** La estimación de profundidad implica inferir la información de la distancia o la profundidad de los objetos en una imagen. Es útil en aplicaciones de realidad virtual, conducción autónoma y sistemas de navegación.\n",
        "9. **Super-resolución:** La super-resolución se refiere a aumentar la resolución o la calidad de una imagen de baja resolución. El objetivo es generar una versión de alta resolución que capture más detalles y claridad.\n"
      ],
      "metadata": {
        "id": "JP3NGkSg6fO2"
      }
    },
    {
      "cell_type": "markdown",
      "source": [
        "## **Sección IV - ¡Extra!**"
      ],
      "metadata": {
        "id": "YTPgeeh5JHL2"
      }
    },
    {
      "cell_type": "markdown",
      "metadata": {
        "id": "i_BXRzLrBEdd"
      },
      "source": [
        "### **Clonamos el repositorio**\n",
        "\n",
        "Comenzaremos clonando el repositorio y asignando a la carpeta como la raíz."
      ]
    },
    {
      "cell_type": "code",
      "metadata": {
        "id": "0p7Tqyz-zfti"
      },
      "source": [
        "!git clone https://github.com/RodolfoFerro/modulo-deep-learning.git\n",
        "%cd modulo-deep-learning\n",
        "!ls"
      ],
      "execution_count": null,
      "outputs": []
    },
    {
      "cell_type": "markdown",
      "metadata": {
        "id": "s8IkF4N2DJV6"
      },
      "source": [
        "La estructura del código fuente es como sigue:\n",
        "- `tools/unet/model.py` - Contiene la implementación del U-Net.\n",
        "- `tools/data.py` - Contiene funciones de utilería para carga de datos.\n",
        "- `tools/image.py` - Coniene funciones de utilería para cargar imágenes y mostrar los resultados de las inferencias.\n",
        "- `main.py` - Contiene una sencilla implementación de este cuaderno en un script de Python para entrenar el modelo."
      ]
    },
    {
      "cell_type": "markdown",
      "metadata": {
        "id": "yA1wiuc01lQd"
      },
      "source": [
        "### **Cargamos los datos**\n",
        "\n",
        "A continuación procedemos a importar algunas bibliotecas y el código base del modelo.\n",
        "\n",
        "Haremos uso de alunas funciones que permiten cargar datos que encuentras en el folder `data`.\n",
        "\n",
        "Comenzaremos importando las funciones de los módulos a utilizar."
      ]
    },
    {
      "cell_type": "code",
      "metadata": {
        "id": "2kdal-XjznDC"
      },
      "source": [
        "from tools.data import train_generator\n",
        "from tools.data import test_generator\n",
        "from tools.data import save_results"
      ],
      "execution_count": null,
      "outputs": []
    },
    {
      "cell_type": "markdown",
      "metadata": {
        "id": "cLq_Gu9hDxX4"
      },
      "source": [
        "Procedemos a crear un diccionario de configuración para cargar datos."
      ]
    },
    {
      "cell_type": "code",
      "metadata": {
        "id": "lGXyhvn7bW0h"
      },
      "source": [
        "data_gen_args = dict(\n",
        "    rotation_range=0.2,\n",
        "    width_shift_range=0.05,\n",
        "    height_shift_range=0.05,\n",
        "    shear_range=0.05,\n",
        "    zoom_range=0.05,\n",
        "    horizontal_flip=True,\n",
        "    fill_mode='nearest'\n",
        ")\n",
        "\n",
        "train_gen = train_generator(\n",
        "    2, 'data/membrane/train',\n",
        "    'image', 'label',\n",
        "    data_gen_args,\n",
        "    save_to_dir=None\n",
        ")"
      ],
      "execution_count": null,
      "outputs": []
    },
    {
      "cell_type": "markdown",
      "source": [
        "\n",
        "### **Creamos el modelo**\n",
        "\n",
        "Ahora, procederemos a crear el modelo. Para ello, dos opciones serán previstas.\n",
        "\n",
        "**OPCIÓN A:** Creamos nuestro propio U-Net con nuestras propias características, basándonos en la propuesta original:\n",
        "\n",
        "<center>\n",
        "    <img src=\"https://production-media.paperswithcode.com/methods/Screen_Shot_2020-07-07_at_9.08.00_PM_rpNArED.png\" width=\"60%\">\n",
        "</center>"
      ],
      "metadata": {
        "id": "K87oTtdQhdui"
      }
    },
    {
      "cell_type": "code",
      "source": [
        "import tensorflow as tf\n",
        "from tensorflow.keras.models import Model\n",
        "from tensorflow.keras.layers import Input\n",
        "from tensorflow.keras.layers import Conv2D\n",
        "from tensorflow.keras.layers import MaxPooling2D\n",
        "from tensorflow.keras.layers import UpSampling2D\n",
        "from tensorflow.keras.layers import Dropout\n",
        "from tensorflow.keras.layers import concatenate\n",
        "from tensorflow.keras.optimizers import Adam\n",
        "\n",
        "\n",
        "def unet(pretrained_weights=None, input_size=(256, 256, 1)):\n",
        "    \"\"\"U-Net model constructor.\n",
        "\n",
        "    Parameters\n",
        "    ----------\n",
        "    pretrained_weights : str\n",
        "        Path to pretrained weights.\n",
        "    input_size : tuple\n",
        "        Spatial size of the expected input image.\n",
        "    \"\"\"\n",
        "\n",
        "    inputs = Input(input_size)\n",
        "\n",
        "    # Convolution chain #1\n",
        "    # conv_1 = ...\n",
        "\n",
        "    # Continua aquí con tu propia implementación..."
      ],
      "metadata": {
        "id": "QAH4Q0TxiSnn"
      },
      "execution_count": null,
      "outputs": []
    },
    {
      "cell_type": "markdown",
      "metadata": {
        "id": "ttz1pS1SD5su"
      },
      "source": [
        "**OPCIÓN B:** Creamos una instancia del modelo ya implementado y entrenamos con los datos."
      ]
    },
    {
      "cell_type": "code",
      "metadata": {
        "id": "fKZb95kubdUf"
      },
      "source": [
        "from tensorflow.keras.callbacks import ModelCheckpoint\n",
        "import numpy as np\n",
        "\n",
        "from tools.unet.model import unet\n",
        "\n",
        "# Replicable experiments\n",
        "tf.random.set_seed(42)\n",
        "np.random.seed(42)\n",
        "\n",
        "model = unet()\n",
        "\n",
        "model_checkpoint = ModelCheckpoint(\n",
        "    'unet_membrane.keras',\n",
        "    monitor='loss',\n",
        "    verbose=1,\n",
        "    save_best_only=True\n",
        ")"
      ],
      "execution_count": null,
      "outputs": []
    },
    {
      "cell_type": "code",
      "source": [
        "history = model.fit(\n",
        "    train_gen,\n",
        "    steps_per_epoch=300,\n",
        "    epochs=5,\n",
        "    callbacks=[model_checkpoint]\n",
        ")"
      ],
      "metadata": {
        "id": "Xz0G99UGYndV"
      },
      "execution_count": null,
      "outputs": []
    },
    {
      "cell_type": "code",
      "source": [
        "import plotly.express as px\n",
        "import numpy as np\n",
        "\n",
        "losses = history.history['loss']\n",
        "eje_x = np.arange(len(losses))\n",
        "\n",
        "fig = px.line(\n",
        "    x=eje_x,\n",
        "    y=losses,\n",
        "    title='Historia de entrenamiento',\n",
        "    labels=dict(x='Épocas', y='Error')\n",
        ")\n",
        "fig.show()"
      ],
      "metadata": {
        "id": "jodtKIlZMOSs"
      },
      "execution_count": null,
      "outputs": []
    },
    {
      "cell_type": "markdown",
      "metadata": {
        "id": "edeZ8WvsD89n"
      },
      "source": [
        "**Hasta este punto deberías haber entrenado exitosamente un U-Net con algunas imágenes médicas.**\n",
        "\n",
        "Una vez entrenado el modelo, podemos realizar pruebas de inferencia con el conjunto de pruebas que se encuentra en la misma carpeta de datos."
      ]
    },
    {
      "cell_type": "code",
      "metadata": {
        "id": "5i_ECOlzefxU"
      },
      "source": [
        "test_gen = test_generator('data/membrane/test')\n",
        "results = model.predict(test_gen, verbose=True)\n",
        "save_results('data/results', results)"
      ],
      "execution_count": null,
      "outputs": []
    },
    {
      "cell_type": "markdown",
      "metadata": {
        "id": "i2-wE6B7jFj4"
      },
      "source": [
        "\n",
        "### **Resultados gráficos**\n",
        "\n",
        "El código base provee algunas funciones para cargar, inferir y crear máscaras de los resultados al trabajar sobre algunas imágenes.\n",
        "\n",
        "Procedemos a importar las funciones del módulo de imágenes."
      ]
    },
    {
      "cell_type": "code",
      "metadata": {
        "id": "yU8bP3t25TDm"
      },
      "source": [
        "from tools.image import load_test_image\n",
        "from tools.image import inference_over_image\n",
        "from tools.image import create_mask\n",
        "from tools.image import overlay_mask"
      ],
      "execution_count": null,
      "outputs": []
    },
    {
      "cell_type": "markdown",
      "metadata": {
        "id": "vRE71y6dEchq"
      },
      "source": [
        "Cargamos una imagen del directorio de prueba, especificando con un número entero el índice de alguna de las 30 imágenes (`[0, 29]`)."
      ]
    },
    {
      "cell_type": "code",
      "metadata": {
        "id": "kzjLv6Rd8KuB"
      },
      "source": [
        "img = load_test_image(0)"
      ],
      "execution_count": null,
      "outputs": []
    },
    {
      "cell_type": "markdown",
      "metadata": {
        "id": "vUkAB_jOEpGz"
      },
      "source": [
        "Usamos el modelo previamente entrenado para inferir sobre la imagen previamente cargada."
      ]
    },
    {
      "cell_type": "code",
      "metadata": {
        "id": "ugcpTWtHp_rZ"
      },
      "source": [
        "out = inference_over_image(model, img)"
      ],
      "execution_count": null,
      "outputs": []
    },
    {
      "cell_type": "markdown",
      "metadata": {
        "id": "dd4rdm-4Ey2H"
      },
      "source": [
        "Creamos una máscara a partir de la inferencia."
      ]
    },
    {
      "cell_type": "code",
      "metadata": {
        "id": "MNylyGmZ0xEw"
      },
      "source": [
        "mask = create_mask(out)"
      ],
      "execution_count": null,
      "outputs": []
    },
    {
      "cell_type": "markdown",
      "metadata": {
        "id": "YEjSK__TE1j8"
      },
      "source": [
        "Sobreponemos la máscara en la imágen original para validar el resulatdo."
      ]
    },
    {
      "cell_type": "code",
      "metadata": {
        "id": "p9Q4oxihCgSq"
      },
      "source": [
        "res = overlay_mask(img, mask)"
      ],
      "execution_count": null,
      "outputs": []
    },
    {
      "cell_type": "markdown",
      "metadata": {
        "id": "FsmVIiyTE51p"
      },
      "source": [
        "**¡Felicidades! Has utilizado exitosamente tu modelo entrenado sobre algunas imágenes médicas.**"
      ]
    },
    {
      "cell_type": "markdown",
      "source": [
        "**Reto:** Yo me he encargado de enfocarme en utilizar las detecciones para la identificación de pared celular, sin embargo, puedes modificar o crear tus propias funciones para la detección celular completa.\n",
        "\n",
        "Por otro lado, no debes limitarte a ello, sino que puedes crear o cargar tu propio conjunto de datos para segmentar otro tipo de elementos, como las mitocondrias (echa un vistazo al [Electron Microscopy Dataset](https://www.epfl.ch/labs/cvlab/data/data-em/))."
      ],
      "metadata": {
        "id": "c-g406-ALN_R"
      }
    },
    {
      "cell_type": "markdown",
      "source": [
        "--------\n",
        "\n",
        "> Contenido creado por **Rodolfo Ferro**, 2024. <br>\n",
        "> Para cualquier retroalimentación, puedes contactarme a través del correo [ferro@cimat.mx](mailto:ferro@cimat.mx)."
      ],
      "metadata": {
        "id": "hSdbQU3e6-Ky"
      }
    }
  ]
}