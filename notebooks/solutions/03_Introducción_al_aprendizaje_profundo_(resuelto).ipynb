{
  "cells": [
    {
      "cell_type": "markdown",
      "metadata": {
        "id": "view-in-github",
        "colab_type": "text"
      },
      "source": [
        "<a href=\"https://colab.research.google.com/github/RodolfoFerro/modulo-deep-learning/blob/main/notebooks/solutions/03_Introducci%C3%B3n_al_aprendizaje_profundo_(resuelto).ipynb\" target=\"_parent\"><img src=\"https://colab.research.google.com/assets/colab-badge.svg\" alt=\"Open In Colab\"/></a>"
      ]
    },
    {
      "cell_type": "markdown",
      "metadata": {
        "id": "R6jO_1gISKxk"
      },
      "source": [
        "# **Aprendizaje profundo - Sesión 3  🧠**\n",
        "\n",
        "> **Descripción:** Cuaderno de contenidos del módulo de aprendizaje profundo para el Dimplomado en Ciencia de Datos de la ENES UNAM León, 2024. <br>\n",
        "> **Autor:** [Rodolfo Ferro](https://github.com/RodolfoFerro) <br>\n",
        "> **Contacto:** [ferro@cimat.mx](mailto:ferro@cimat.mx)\n",
        "\n",
        "\n",
        "## Contenido\n",
        "\n",
        "### Sección I\n",
        "\n",
        "1. Overfitting vs. Underfitting\n",
        "2. Regularización:\n",
        "    - Dropout\n",
        "    - Early Stopping\n",
        "\n",
        "### Sección II\n",
        "\n",
        "3. Problemas de regresión\n",
        "\n",
        "### Sección III\n",
        "\n",
        "4. Problemas de clasificación"
      ]
    },
    {
      "cell_type": "markdown",
      "metadata": {
        "id": "KlQl_jAunKvb"
      },
      "source": [
        "## **Sección I**"
      ]
    },
    {
      "cell_type": "markdown",
      "metadata": {
        "id": "MrvykO3jXLNc"
      },
      "source": [
        "### **IMPORTANTE**\n",
        "\n",
        "El contenido de esta sección ha sido descrito en su totalidad a través de la presentación.\n",
        "\n",
        "Conviene revisar el material que puedes encontrar en el [repositorio](https://github.com/RodolfoFerro/modulo-deep-learning)."
      ]
    },
    {
      "cell_type": "markdown",
      "metadata": {
        "id": "vCtX4qz5c7XJ"
      },
      "source": [
        "### **Ejemplo de Early Stopping**"
      ]
    },
    {
      "cell_type": "code",
      "execution_count": null,
      "metadata": {
        "id": "oH0DlNXuc1IZ"
      },
      "outputs": [],
      "source": [
        "import tensorflow as tf\n",
        "import numpy as np\n",
        "\n",
        "\n",
        "# Sample data (XOR)\n",
        "x = np.array([(0, 0), (1, 0), (0, 1), (1, 1)])\n",
        "y = np.array([0, 1, 1, 0])\n",
        "\n",
        "\n",
        "# Creates the model\n",
        "model = tf.keras.models.Sequential([\n",
        "    tf.keras.layers.Dense(2, activation='linear'),\n",
        "    tf.keras.layers.Dense(1, activation='sigmoid')\n",
        "])\n",
        "\n",
        "\n",
        "# Compile the model\n",
        "loss = tf.keras.losses.MeanSquaredError()\n",
        "optimizer = tf.keras.optimizers.SGD(learning_rate=0.6)\n",
        "\n",
        "model.compile(optimizer=optimizer, loss=loss, metrics=[loss])"
      ]
    },
    {
      "cell_type": "code",
      "execution_count": null,
      "metadata": {
        "id": "frrX7NTpddZL"
      },
      "outputs": [],
      "source": [
        "# Create a callback\n",
        "callback = tf.keras.callbacks.EarlyStopping(monitor='loss', patience=3)"
      ]
    },
    {
      "cell_type": "code",
      "execution_count": null,
      "metadata": {
        "id": "AJDRZsUcddCZ"
      },
      "outputs": [],
      "source": [
        "history = model.fit(x, y, epochs=1000, callbacks=[callback])"
      ]
    },
    {
      "cell_type": "code",
      "execution_count": null,
      "metadata": {
        "id": "7OMnBonQd4FE"
      },
      "outputs": [],
      "source": [
        "import plotly.express as px\n",
        "\n",
        "\n",
        "losses = history.history['loss']\n",
        "eje_x = np.arange(len(losses))\n",
        "\n",
        "fig = px.line(\n",
        "    x=eje_x,\n",
        "    y=losses,\n",
        "    title='Historia de entrenamiento',\n",
        "    labels=dict(x='Épocas', y='Error')\n",
        ")\n",
        "fig.show()"
      ]
    },
    {
      "cell_type": "markdown",
      "metadata": {
        "id": "vO4Y2Ih0XJpn"
      },
      "source": [
        "## **Sección II**"
      ]
    },
    {
      "cell_type": "markdown",
      "metadata": {
        "id": "fp687hVHnOxo"
      },
      "source": [
        "### **Regresión lineal 01**\n",
        "\n",
        "Resolveremos este primer ejercicio creando una red neuronal sencilla con datos sintéticos."
      ]
    },
    {
      "cell_type": "code",
      "execution_count": null,
      "metadata": {
        "id": "GbI7sI3GRLvO"
      },
      "outputs": [],
      "source": [
        "import numpy as np\n",
        "\n",
        "x = np.linspace(0, 100, 101)\n",
        "x"
      ]
    },
    {
      "cell_type": "code",
      "execution_count": null,
      "metadata": {
        "id": "teaGb6bShBsj"
      },
      "outputs": [],
      "source": [
        "y = x + 10 * np.random.random((len(x)))\n",
        "y"
      ]
    },
    {
      "cell_type": "code",
      "execution_count": null,
      "metadata": {
        "id": "7UId24PBOUdL"
      },
      "outputs": [],
      "source": [
        "import plotly.express as px\n",
        "\n",
        "\n",
        "fig = px.scatter(x=x, y=y)\n",
        "fig.show()"
      ]
    },
    {
      "cell_type": "markdown",
      "metadata": {
        "id": "IsM0636EiCEz"
      },
      "source": [
        "### **Modelo**\n",
        "\n",
        "Por la simplicidad de los datos, podemos intentar realizar el ajuste de una recta, por lo que una simple neurona artificial bastará para modelar la ecuación $y=mx+b$.\n",
        "\n",
        "El peso entrenado corresponderá a la pendiente $m$ de la ecuación y el _bias_ al valor de intersección $b$."
      ]
    },
    {
      "cell_type": "code",
      "execution_count": null,
      "metadata": {
        "id": "YDrqviMejqWL"
      },
      "outputs": [],
      "source": [
        "import tensorflow as tf\n",
        "\n",
        "model = tf.keras.Sequential()\n",
        "model.add(tf.keras.layers.Input([1])) # Hint: Input layer is Input([1])\n",
        "model.add(tf.keras.layers.Dense(1, activation='linear')) # Hint: Output layer is Dense(1) w/linear activation"
      ]
    },
    {
      "cell_type": "markdown",
      "metadata": {
        "id": "oILbTIcpZzF2"
      },
      "source": [
        "### **Optimizador y función de pérdida**"
      ]
    },
    {
      "cell_type": "markdown",
      "metadata": {
        "id": "BP04BMThkScl"
      },
      "source": [
        "$$ \\mathrm{MSE}=\\frac{1}{N}\\cdot\\sum_{i=1}^N \\left(y_i- \\hat{y}_i \\right )^2 $$"
      ]
    },
    {
      "cell_type": "code",
      "execution_count": null,
      "metadata": {
        "id": "mFFUMXpxZo0x"
      },
      "outputs": [],
      "source": [
        "# TODO: Create loss function and optimizer\n",
        "loss = tf.keras.losses.MeanSquaredError()\n",
        "optimizer = tf.keras.optimizers.Adam(learning_rate=1e-1) # Try SGD(learning_rate=1e-5) / Adam(learning_rate=1e-1)"
      ]
    },
    {
      "cell_type": "markdown",
      "metadata": {
        "id": "oKYTYM7mpKXm"
      },
      "source": [
        "> **¿Qué es ADAM?** $\\rightarrow$ https://www.geeksforgeeks.org/adam-optimizer/"
      ]
    },
    {
      "cell_type": "code",
      "execution_count": null,
      "metadata": {
        "id": "0A56ubLybjZL"
      },
      "outputs": [],
      "source": [
        "# TODO: Add optimizer and loss to model compilation\n",
        "model.compile(loss=loss, optimizer=optimizer, metrics=[loss])"
      ]
    },
    {
      "cell_type": "code",
      "execution_count": null,
      "metadata": {
        "id": "wT5kqY2YcbVv"
      },
      "outputs": [],
      "source": [
        "model.summary()"
      ]
    },
    {
      "cell_type": "markdown",
      "source": [
        "### **Entrenamiento del modelo**"
      ],
      "metadata": {
        "id": "iTziCvA3wBjG"
      }
    },
    {
      "cell_type": "code",
      "execution_count": null,
      "metadata": {
        "id": "fDQ4fPJxbtbO"
      },
      "outputs": [],
      "source": [
        "history = model.fit(x, y, epochs=100)"
      ]
    },
    {
      "cell_type": "code",
      "execution_count": null,
      "metadata": {
        "id": "cHBNrHSMXKhW"
      },
      "outputs": [],
      "source": [
        "import plotly.express as px\n",
        "\n",
        "\n",
        "losses = history.history['loss']\n",
        "eje_x = np.arange(len(losses))\n",
        "\n",
        "fig = px.line(\n",
        "    x=eje_x,\n",
        "    y=losses,\n",
        "    title='Historia de entrenamiento',\n",
        "    labels=dict(x='Épocas', y='Error')\n",
        ")\n",
        "fig.show()"
      ]
    },
    {
      "cell_type": "code",
      "execution_count": null,
      "metadata": {
        "id": "hvSrcyLDaTxc"
      },
      "outputs": [],
      "source": [
        "# Build output over original x\n",
        "y_pred_model = model.predict(x)"
      ]
    },
    {
      "cell_type": "code",
      "execution_count": null,
      "metadata": {
        "id": "Z98QLtC8cZH5"
      },
      "outputs": [],
      "source": [
        "import plotly.graph_objects as go\n",
        "\n",
        "\n",
        "fig = go.Figure()\n",
        "fig.add_trace(\n",
        "    go.Scatter(x=x, y=y, mode='markers', name='Datos crudos')\n",
        ")\n",
        "fig.add_trace(\n",
        "    go.Scatter(x=x, y=y_pred_model.flatten(), mode='lines', name='Modelo ajustado')\n",
        ")\n",
        "\n",
        "fig.show()"
      ]
    },
    {
      "cell_type": "markdown",
      "metadata": {
        "id": "D66wW0WrlqU-"
      },
      "source": [
        "### **Evaluación del modelo**"
      ]
    },
    {
      "cell_type": "code",
      "execution_count": null,
      "metadata": {
        "id": "ebjfFI0zlsx-"
      },
      "outputs": [],
      "source": [
        "from sklearn.metrics import mean_squared_error\n",
        "from sklearn.metrics import r2_score\n",
        "\n",
        "\n",
        "# MSE\n",
        "y_pred_model = model.predict(x)\n",
        "print(\"MSE:\", mean_squared_error(y, y_pred_model))\n",
        "\n",
        "# R2\n",
        "print(\"R^2:\", r2_score(y, y_pred_model))"
      ]
    },
    {
      "cell_type": "markdown",
      "source": [
        "> - **Métricas de regresión:** https://scikit-learn.org/stable/modules/model_evaluation.html#regression-metrics\n",
        "> - **Coeficiente de determinación:** https://en.wikipedia.org/wiki/Coefficient_of_determination"
      ],
      "metadata": {
        "id": "sixT54jXvowo"
      }
    },
    {
      "cell_type": "code",
      "execution_count": null,
      "metadata": {
        "id": "wFMhfB9dnViC"
      },
      "outputs": [],
      "source": [
        "w, b = model.get_weights()\n",
        "w, b = w[0][0], b[0]\n",
        "w, b"
      ]
    },
    {
      "cell_type": "markdown",
      "metadata": {
        "id": "RmZmB8Vwn4YJ"
      },
      "source": [
        "### **Reconstrucción del modelo**"
      ]
    },
    {
      "cell_type": "code",
      "execution_count": null,
      "metadata": {
        "id": "Xs4y5ndAoDo4"
      },
      "outputs": [],
      "source": [
        "y_reconstructed = x * w + b"
      ]
    },
    {
      "cell_type": "code",
      "execution_count": null,
      "metadata": {
        "id": "pij_Hd0foKS0"
      },
      "outputs": [],
      "source": [
        "import plotly.graph_objects as go\n",
        "\n",
        "\n",
        "fig = go.Figure()\n",
        "fig.add_trace(\n",
        "    go.Scatter(x=x, y=y, mode='markers', name='Datos crudos')\n",
        ")\n",
        "fig.add_trace(\n",
        "    go.Scatter(x=x, y=y_reconstructed, mode='lines', name='Modelo ajustado')\n",
        ")\n",
        "\n",
        "fig.show()"
      ]
    },
    {
      "cell_type": "markdown",
      "metadata": {
        "id": "xQsg9n5poZIz"
      },
      "source": [
        "---"
      ]
    },
    {
      "cell_type": "markdown",
      "metadata": {
        "id": "O4VGPBVzoWYr"
      },
      "source": [
        "### **Regresión 02**\n",
        "\n",
        "Ahora vamos a resolver un problema de regresión no necesariamente lineal."
      ]
    },
    {
      "cell_type": "code",
      "execution_count": null,
      "metadata": {
        "id": "kOmc9qeLonQT"
      },
      "outputs": [],
      "source": [
        "import numpy as np\n",
        "\n",
        "\n",
        "x = np.linspace(-4 * np.pi, 4 * np.pi, 10000)\n",
        "y = np.sin(x) + 0.5 * np.random.randn(len(x))"
      ]
    },
    {
      "cell_type": "code",
      "execution_count": null,
      "metadata": {
        "id": "EO9hMyVCowsp"
      },
      "outputs": [],
      "source": [
        "import plotly.express as px\n",
        "\n",
        "\n",
        "fig = px.scatter(x=x, y=y)\n",
        "fig.show()"
      ]
    },
    {
      "cell_type": "markdown",
      "metadata": {
        "id": "l1Sn5t7jvwg4"
      },
      "source": [
        "### **Modelo**"
      ]
    },
    {
      "cell_type": "code",
      "execution_count": null,
      "metadata": {
        "id": "AFvWpFc1pCt4"
      },
      "outputs": [],
      "source": [
        "import tensorflow as tf\n",
        "\n",
        "\n",
        "# TODO: Build the model\n",
        "model = tf.keras.models.Sequential()\n",
        "model.add(tf.keras.layers.Input([1])) # Hint: Input layer is Input([1])\n",
        "# TODO: Create at least 1 hidden layer\n",
        "model.add(tf.keras.layers.Dense(128, activation='relu'))\n",
        "model.add(tf.keras.layers.Dense(256, activation='relu'))\n",
        "model.add(tf.keras.layers.Dense(128, activation='relu'))\n",
        "model.add(tf.keras.layers.Dense(1)) # Hint: Output layer is Dense(1) w/linear activation"
      ]
    },
    {
      "cell_type": "markdown",
      "metadata": {
        "id": "CaFxGXU_v0_I"
      },
      "source": [
        "### **Optimizador y función de pérdida**"
      ]
    },
    {
      "cell_type": "markdown",
      "metadata": {
        "id": "VGXOh5nJv2yb"
      },
      "source": [
        "$$ \\mathrm{MSE}=\\frac{1}{N}\\cdot\\sum_{i=1}^N \\left(y_i- \\hat{y}_i \\right )^2 $$"
      ]
    },
    {
      "cell_type": "code",
      "source": [
        "# TODO: Create loss function and optimizer\n",
        "loss = tf.keras.losses.MeanSquaredError()\n",
        "optimizer = tf.keras.optimizers.Adam(learning_rate=1e-3) # Try Adam(learning_rate=1e-3)"
      ],
      "metadata": {
        "id": "15Niq0Lqv4Bl"
      },
      "execution_count": null,
      "outputs": []
    },
    {
      "cell_type": "code",
      "source": [
        "# TODO: Integrate all here!\n",
        "model.compile(loss=loss, optimizer=optimizer, metrics=[loss])"
      ],
      "metadata": {
        "id": "w29fSbdhv-D4"
      },
      "execution_count": null,
      "outputs": []
    },
    {
      "cell_type": "code",
      "execution_count": null,
      "metadata": {
        "id": "o17AvTdBv8_9"
      },
      "outputs": [],
      "source": [
        "model.summary()"
      ]
    },
    {
      "cell_type": "markdown",
      "source": [
        "### **Entrenamiento del modelo**"
      ],
      "metadata": {
        "id": "QbFPH8RHwFSe"
      }
    },
    {
      "cell_type": "code",
      "source": [
        "history = model.fit(x, y, epochs=100)"
      ],
      "metadata": {
        "id": "3EVMEjr2v--Y"
      },
      "execution_count": null,
      "outputs": []
    },
    {
      "cell_type": "code",
      "execution_count": null,
      "metadata": {
        "id": "5_wCvZsTpdBQ"
      },
      "outputs": [],
      "source": [
        "import plotly.express as px\n",
        "\n",
        "\n",
        "losses = history.history['loss']\n",
        "eje_x = np.arange(len(losses))\n",
        "\n",
        "fig = px.line(\n",
        "    x=eje_x,\n",
        "    y=losses,\n",
        "    title='Historia de entrenamiento',\n",
        "    labels=dict(x='Épocas', y='Error')\n",
        ")\n",
        "fig.show()"
      ]
    },
    {
      "cell_type": "markdown",
      "metadata": {
        "id": "L6HWimc6wP90"
      },
      "source": [
        "### **Reconstrucción del modelo**"
      ]
    },
    {
      "cell_type": "code",
      "execution_count": null,
      "metadata": {
        "id": "O3YgpX2drevs"
      },
      "outputs": [],
      "source": [
        "# Build output over original x\n",
        "y_pred_model = model.predict(x)"
      ]
    },
    {
      "cell_type": "code",
      "execution_count": null,
      "metadata": {
        "id": "WOGjOxdyri8b"
      },
      "outputs": [],
      "source": [
        "import plotly.graph_objects as go\n",
        "\n",
        "\n",
        "fig = go.Figure()\n",
        "fig.add_trace(\n",
        "    go.Scatter(x=x, y=y, mode='markers', name='Datos crudos')\n",
        ")\n",
        "fig.add_trace(\n",
        "    go.Scatter(x=x, y=y_pred_model.flatten(), mode='lines', name='Modelo ajustado')\n",
        ")\n",
        "\n",
        "fig.show()"
      ]
    },
    {
      "cell_type": "markdown",
      "metadata": {
        "id": "0IHtR4uPEaCO"
      },
      "source": [
        "<center>\n",
        "    *********\n",
        "</center>"
      ]
    },
    {
      "cell_type": "markdown",
      "metadata": {
        "id": "7NE4e3KuEVst"
      },
      "source": [
        "## **Sección III – Ejercicio**"
      ]
    },
    {
      "cell_type": "markdown",
      "source": [
        "### **Clasificación 01**\n",
        "\n",
        "Para este problema utilizaremos un dataset sintético ya conocido:"
      ],
      "metadata": {
        "id": "HAmjk4ewupZa"
      }
    },
    {
      "cell_type": "code",
      "source": [
        "from sklearn.datasets import make_circles\n",
        "import numpy as np\n",
        "\n",
        "\n",
        "# Make 1000 examples\n",
        "n_samples = 1000\n",
        "\n",
        "# Create circles\n",
        "x, y = make_circles(n_samples, noise=0.03, random_state=42)"
      ],
      "metadata": {
        "id": "oZMZSe02xeNq"
      },
      "execution_count": null,
      "outputs": []
    },
    {
      "cell_type": "code",
      "source": [
        "import pandas as pd\n",
        "\n",
        "\n",
        "circles = pd.DataFrame({\"x1\": x[:, 0], \"x2\": x[:, 1], \"label\":y})\n",
        "circles.head()"
      ],
      "metadata": {
        "id": "z1IxhPQDxgzh"
      },
      "execution_count": null,
      "outputs": []
    },
    {
      "cell_type": "code",
      "source": [
        "# Verify number of labels\n",
        "circles.label.value_counts()"
      ],
      "metadata": {
        "id": "piJ1efLIxkQg"
      },
      "execution_count": null,
      "outputs": []
    },
    {
      "cell_type": "code",
      "source": [
        "import plotly.express as px\n",
        "\n",
        "\n",
        "fig = px.scatter(\n",
        "    x=circles['x1'],\n",
        "    y=circles['x2'],\n",
        "    color=circles['label'].astype(str) # Discretize the color palette\n",
        ")\n",
        "fig.show()"
      ],
      "metadata": {
        "id": "wHza7yxHxqud"
      },
      "execution_count": null,
      "outputs": []
    },
    {
      "cell_type": "markdown",
      "metadata": {
        "id": "QdL28fxH3QUI"
      },
      "source": [
        "### **Modelo**"
      ]
    },
    {
      "cell_type": "code",
      "source": [
        "import tensorflow as tf\n",
        "\n",
        "\n",
        "# TODO: Create the model using the Sequential API\n",
        "# Hint - You can try:\n",
        "#  - Input(2)\n",
        "#  - Hidden layers - tanh\n",
        "#  - Output layer(1) - sigmoid\n",
        "model = tf.keras.Sequential([\n",
        "    tf.keras.layers.Input([2]),\n",
        "    tf.keras.layers.Dense(4, activation='tanh'),\n",
        "    tf.keras.layers.Dense(2, activation='tanh'),\n",
        "    tf.keras.layers.Dense(1, activation='sigmoid')\n",
        "])"
      ],
      "metadata": {
        "id": "UhbJnHSZyLAv"
      },
      "execution_count": null,
      "outputs": []
    },
    {
      "cell_type": "markdown",
      "metadata": {
        "id": "sUtL750G3asw"
      },
      "source": [
        "### **Optimizador y función de pérdida**"
      ]
    },
    {
      "cell_type": "markdown",
      "metadata": {
        "id": "fih5AEij3cqe"
      },
      "source": [
        "$$ \\mathrm{Binary Crossentropy}=-\\frac{1}{N}\\cdot\\sum_{i=1}^N \\left[y_i \\log (\\hat{y}_i) + (1 - y_i) \\log (1 - \\hat{y}_i) \\right] $$\n"
      ]
    },
    {
      "cell_type": "code",
      "source": [
        "# TODO: Create loss function and optimizer\n",
        "loss = tf.keras.losses.BinaryCrossentropy()\n",
        "optimizer = tf.keras.optimizers.Adam(learning_rate=3e-3) # Try Adam(learning_rate=3e-3)"
      ],
      "metadata": {
        "id": "kmR1xHpb4n-y"
      },
      "execution_count": null,
      "outputs": []
    },
    {
      "cell_type": "code",
      "source": [
        "# TODO: Integrate all here!\n",
        "model.compile(loss=loss, optimizer=optimizer, metrics=['accuracy'])"
      ],
      "metadata": {
        "id": "9ZdvrRpR4vcP"
      },
      "execution_count": null,
      "outputs": []
    },
    {
      "cell_type": "code",
      "execution_count": null,
      "metadata": {
        "id": "uTsySgjg46nu"
      },
      "outputs": [],
      "source": [
        "model.summary()"
      ]
    },
    {
      "cell_type": "markdown",
      "source": [
        "### **Entrenamiento del modelo**"
      ],
      "metadata": {
        "id": "dMLeyqpo48xS"
      }
    },
    {
      "cell_type": "code",
      "source": [
        "history = model.fit(x, y, epochs=350)"
      ],
      "metadata": {
        "id": "VJ1ku1Cp4080"
      },
      "execution_count": null,
      "outputs": []
    },
    {
      "cell_type": "code",
      "execution_count": null,
      "metadata": {
        "id": "EqW6cEf75AF9"
      },
      "outputs": [],
      "source": [
        "import plotly.express as px\n",
        "\n",
        "\n",
        "losses = history.history['loss']\n",
        "eje_x = np.arange(len(losses))\n",
        "\n",
        "fig = px.line(\n",
        "    x=eje_x,\n",
        "    y=losses,\n",
        "    title='Historia de entrenamiento',\n",
        "    labels=dict(x='Épocas', y='Error')\n",
        ")\n",
        "fig.show()"
      ]
    },
    {
      "cell_type": "code",
      "source": [
        "import plotly.express as px\n",
        "\n",
        "\n",
        "losses = history.history['accuracy']\n",
        "eje_x = np.arange(len(losses))\n",
        "\n",
        "fig = px.line(\n",
        "    x=eje_x,\n",
        "    y=losses,\n",
        "    title='Historia de entrenamiento',\n",
        "    labels=dict(x='Épocas', y='Accuracy')\n",
        ")\n",
        "fig.show()"
      ],
      "metadata": {
        "id": "X-n5GHLX5D98"
      },
      "execution_count": null,
      "outputs": []
    },
    {
      "cell_type": "markdown",
      "metadata": {
        "id": "uLajZImS5Lfb"
      },
      "source": [
        "### **Evaluación del modelo**"
      ]
    },
    {
      "cell_type": "code",
      "source": [
        "model.evaluate(x, y)"
      ],
      "metadata": {
        "id": "f2niZLTFyVz5"
      },
      "execution_count": null,
      "outputs": []
    },
    {
      "cell_type": "code",
      "source": [
        "y_pred = model.predict(x)"
      ],
      "metadata": {
        "id": "m_w7d7ITzJ-N"
      },
      "execution_count": null,
      "outputs": []
    },
    {
      "cell_type": "code",
      "source": [
        "def binarize_output(y_pred, threshold=0.5):\n",
        "    return np.array([1 if x > threshold else 0 for x in y_pred])"
      ],
      "metadata": {
        "id": "w2ZE3PdR16db"
      },
      "execution_count": null,
      "outputs": []
    },
    {
      "cell_type": "code",
      "source": [
        "from sklearn.metrics import accuracy_score\n",
        "\n",
        "\n",
        "y_pred_bin = binarize_output(y_pred)\n",
        "print(\"Accuracy score:\", accuracy_score(y, y_pred_bin))"
      ],
      "metadata": {
        "id": "FAmvORTU2BUo"
      },
      "execution_count": null,
      "outputs": []
    },
    {
      "cell_type": "markdown",
      "source": [
        "> - **Métricas de clasificación:** https://scikit-learn.org/stable/modules/model_evaluation.html#classification-metrics"
      ],
      "metadata": {
        "id": "laG-0i066ipd"
      }
    },
    {
      "cell_type": "code",
      "source": [
        "import plotly.express as px\n",
        "\n",
        "\n",
        "fig = px.scatter(\n",
        "    x=circles['x1'],\n",
        "    y=circles['x2'],\n",
        "    color=y_pred_bin.flatten().astype(str) # Discretize the color palette\n",
        ")\n",
        "fig.show()"
      ],
      "metadata": {
        "id": "N8sE3FAIzE_5"
      },
      "execution_count": null,
      "outputs": []
    },
    {
      "cell_type": "markdown",
      "source": [
        "---"
      ],
      "metadata": {
        "id": "d2EdGAN86Smy"
      }
    },
    {
      "cell_type": "markdown",
      "source": [
        "### **Clasificación 02**\n",
        "\n",
        "Ahora utilizaremos un conjunto de datos un poco más complejo: el **MNIST dataset**.\n",
        "\n",
        "El dataset está compuesto por imágenes de 28x28 pixeles, que contienen un conjunto de dígitos en 10 categorías.\n",
        "\n",
        "Los datos de MNIST están disponibles directamente en la API de conjuntos de datos de `tf.keras`. Los cargas así:"
      ],
      "metadata": {
        "id": "dIsS_qQA6UAv"
      }
    },
    {
      "cell_type": "code",
      "metadata": {
        "id": "Wgked3UaMJW4"
      },
      "source": [
        "import tensorflow as tf\n",
        "\n",
        "mnist = tf.keras.datasets.mnist"
      ],
      "execution_count": null,
      "outputs": []
    },
    {
      "cell_type": "markdown",
      "metadata": {
        "id": "UsEGBNwrMSac"
      },
      "source": [
        "Llamar a `load_data` en este objeto nos dará dos conjuntos con los valores de entrenamiento y prueba para los gráficos que contienen las prendas y sus etiquetas."
      ]
    },
    {
      "cell_type": "code",
      "metadata": {
        "id": "1XdP6qF1MLR6"
      },
      "source": [
        "(training_images, training_labels), (test_images, test_labels) = mnist.load_data()"
      ],
      "execution_count": null,
      "outputs": []
    },
    {
      "cell_type": "markdown",
      "metadata": {
        "id": "6c0eSrlvMs6H"
      },
      "source": [
        "¿Cómo se ven estos valores?\n",
        "\n",
        "Imprimamos una imagen de entrenamiento y una etiqueta de entrenamiento para ver."
      ]
    },
    {
      "cell_type": "code",
      "metadata": {
        "id": "3CdTltfNM0qF"
      },
      "source": [
        "import numpy as np\n",
        "import matplotlib.pyplot as plt\n",
        "np.set_printoptions(linewidth=200)\n",
        "\n",
        "\n",
        "# Set index of image to be seen\n",
        "img_index = 5999 # 6000 -1\n",
        "\n",
        "# Plot image\n",
        "plt.imshow(training_images[img_index], cmap='gray')\n",
        "plt.axis(False)\n",
        "\n",
        "print('Label:', training_labels[img_index])\n",
        "print('Matrix:', training_images[img_index])"
      ],
      "execution_count": null,
      "outputs": []
    },
    {
      "cell_type": "markdown",
      "metadata": {
        "id": "IyLnhk1VeNc5"
      },
      "source": [
        "### **Preparación de los datos**\n",
        "\n",
        "Notarás que todos los valores están entre 0 y 255. Si estamos entrenando una red neuronal, por varias razones es más fácil si transformamos los valores para tratar todos con valores entre 0 y 1. Este proceso se llama **estandarización**."
      ]
    },
    {
      "cell_type": "code",
      "metadata": {
        "id": "vWoPQWCGNdnB"
      },
      "source": [
        "training_images  = training_images / 255.0\n",
        "test_images = test_images / 255.0"
      ],
      "execution_count": null,
      "outputs": []
    },
    {
      "cell_type": "code",
      "metadata": {
        "id": "32Dx5PzgJ3gK"
      },
      "source": [
        "import numpy as np\n",
        "import matplotlib.pyplot as plt\n",
        "np.set_printoptions(linewidth=200)\n",
        "\n",
        "\n",
        "# Set index of image to be seen\n",
        "img_index = 3000 # 6000 -1\n",
        "\n",
        "# Plot image\n",
        "plt.imshow(training_images[img_index], cmap='gray')\n",
        "plt.axis(False)\n",
        "\n",
        "print('Label:', training_labels[img_index])\n",
        "print('Matrix:', training_images[img_index])"
      ],
      "execution_count": null,
      "outputs": []
    },
    {
      "cell_type": "code",
      "metadata": {
        "id": "6QLVhw7SOCd8"
      },
      "source": [
        "training_images[0].shape"
      ],
      "execution_count": null,
      "outputs": []
    },
    {
      "cell_type": "markdown",
      "metadata": {
        "id": "bTaT1RjyNjqV"
      },
      "source": [
        "### **Modelo**\n",
        "\n"
      ]
    },
    {
      "cell_type": "code",
      "metadata": {
        "id": "g-myY9JWNvtY"
      },
      "source": [
        "# TODO: Create the model using the Sequential API\n",
        "# Hint - You can try:\n",
        "#  - Flatten()\n",
        "#  - Hidden layers - relu\n",
        "#  - Output layer(10) - softmax\n",
        "model = tf.keras.models.Sequential([\n",
        "    tf.keras.layers.Flatten(),\n",
        "    tf.keras.layers.Dense(256, activation='relu'), # TODO. Dense -> 256, ReLU\n",
        "    tf.keras.layers.Dense(10, activation='softmax') # TODO. Dense -> 10, Softmax\n",
        "])"
      ],
      "execution_count": null,
      "outputs": []
    },
    {
      "cell_type": "markdown",
      "source": [
        "> **Softmax Activation Function: Everything You Need to Know** - https://www.pinecone.io/learn/softmax-activation/\n"
      ],
      "metadata": {
        "id": "p28qRmfB73xd"
      }
    },
    {
      "cell_type": "markdown",
      "metadata": {
        "id": "_J7U3E-i9S6Z"
      },
      "source": [
        "### **Optimizador y función de pérdida**"
      ]
    },
    {
      "cell_type": "code",
      "source": [
        "# TODO: Create loss function and optimizer\n",
        "loss = tf.keras.losses.SparseCategoricalCrossentropy()\n",
        "optimizer = tf.keras.optimizers.SGD() # Try SGD()"
      ],
      "metadata": {
        "id": "H5mTAPDZ9Xe2"
      },
      "execution_count": null,
      "outputs": []
    },
    {
      "cell_type": "code",
      "metadata": {
        "id": "F9LHH0f6N5Hi"
      },
      "source": [
        "# TODO: Integrate everything here!\n",
        "model.compile(\n",
        "    optimizer=optimizer,\n",
        "    loss=loss,\n",
        "    metrics=['accuracy']\n",
        ")"
      ],
      "execution_count": null,
      "outputs": []
    },
    {
      "cell_type": "markdown",
      "source": [
        "### **Entrenamiento del modelo**\n",
        "\n",
        "Para entrenar el modelo, simplemente utilizamos el método `.fit()` del modelo."
      ],
      "metadata": {
        "id": "B4DmYPVAUJ2d"
      }
    },
    {
      "cell_type": "code",
      "metadata": {
        "id": "ybq9AzJiN8ZV"
      },
      "source": [
        "history = model.fit(training_images, training_labels, epochs=3)"
      ],
      "execution_count": null,
      "outputs": []
    },
    {
      "cell_type": "markdown",
      "source": [
        "\n",
        "> **Pregunta clave:** ¿Qué sucede con la historia de entrenamiento?"
      ],
      "metadata": {
        "id": "KMX5Gjzu92e1"
      }
    },
    {
      "cell_type": "code",
      "source": [
        "import plotly.express as px\n",
        "\n",
        "\n",
        "seen = 'accuracy' # or 'loss'\n",
        "\n",
        "hist_values = history.history[seen]\n",
        "eje_x = np.arange(len(hist_values))\n",
        "\n",
        "fig = px.line(\n",
        "    x=eje_x,\n",
        "    y=hist_values,\n",
        "    title='Historia de entrenamiento',\n",
        "    labels=dict(x='Épocas', y=seen.capitalize())\n",
        ")\n",
        "fig.show()"
      ],
      "metadata": {
        "id": "qlQoHT6tge9P"
      },
      "execution_count": null,
      "outputs": []
    },
    {
      "cell_type": "markdown",
      "metadata": {
        "id": "cH9mfZMTN8_H"
      },
      "source": [
        "### Evaluación del modelo"
      ]
    },
    {
      "cell_type": "code",
      "metadata": {
        "id": "rHCV5BrAN-pq"
      },
      "source": [
        "model.evaluate(test_images, test_labels)"
      ],
      "execution_count": null,
      "outputs": []
    },
    {
      "cell_type": "markdown",
      "metadata": {
        "id": "w-hQX4NNOd_D"
      },
      "source": [
        "### Predicción\n"
      ]
    },
    {
      "cell_type": "code",
      "metadata": {
        "id": "GaDFuXyROfZY"
      },
      "source": [
        "import random\n",
        "\n",
        "test_index = random.randint(0, 10000 - 1)\n",
        "\n",
        "plt.imshow(test_images[test_index], cmap='gray')\n",
        "plt.axis(False)\n",
        "\n",
        "print('Label:', test_labels[test_index])\n",
        "input_image = np.reshape(test_images[test_index], (1, 784))\n",
        "prediction = model.predict(np.expand_dims(input_image, axis=-1))\n",
        "print('Prediction:', np.argmax(prediction))"
      ],
      "execution_count": null,
      "outputs": []
    },
    {
      "cell_type": "code",
      "metadata": {
        "id": "RHA0nk24QEVz"
      },
      "source": [
        "prediction"
      ],
      "execution_count": null,
      "outputs": []
    },
    {
      "cell_type": "markdown",
      "source": [
        "> **Para resolver el reto es:** Mejorar el accuracy obtenido en la clase.\n",
        "\n",
        "**Puedes explorar:**\n",
        "- El número de capas.\n",
        "- Las épocas de entrenamiento.\n",
        "- Las funciones de activación.\n",
        "- Investigar otras capas."
      ],
      "metadata": {
        "id": "QKp_PZ_NDqbS"
      }
    },
    {
      "cell_type": "markdown",
      "metadata": {
        "id": "hSdbQU3e6-Ky"
      },
      "source": [
        "--------\n",
        "\n",
        "> Contenido creado por **Rodolfo Ferro**, 2024. <br>\n",
        "> Para cualquier retroalimentación, puedes contactarme a través del correo [ferro@cimat.mx](mailto:ferro@cimat.mx)."
      ]
    }
  ],
  "metadata": {
    "accelerator": "GPU",
    "colab": {
      "collapsed_sections": [
        "MrvykO3jXLNc"
      ],
      "provenance": [],
      "include_colab_link": true
    },
    "gpuClass": "standard",
    "kernelspec": {
      "display_name": "Python 3",
      "name": "python3"
    }
  },
  "nbformat": 4,
  "nbformat_minor": 0
}