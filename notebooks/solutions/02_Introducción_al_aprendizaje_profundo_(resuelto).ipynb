{
  "nbformat": 4,
  "nbformat_minor": 0,
  "metadata": {
    "colab": {
      "provenance": [],
      "collapsed_sections": [
        "MrvykO3jXLNc"
      ],
      "include_colab_link": true
    },
    "kernelspec": {
      "name": "python3",
      "display_name": "Python 3"
    },
    "accelerator": "GPU",
    "gpuClass": "standard"
  },
  "cells": [
    {
      "cell_type": "markdown",
      "metadata": {
        "id": "view-in-github",
        "colab_type": "text"
      },
      "source": [
        "<a href=\"https://colab.research.google.com/github/RodolfoFerro/modulo-deep-learning/blob/main/notebooks/solutions/02_Introducci%C3%B3n_al_aprendizaje_profundo_(resuelto).ipynb\" target=\"_parent\"><img src=\"https://colab.research.google.com/assets/colab-badge.svg\" alt=\"Open In Colab\"/></a>"
      ]
    },
    {
      "cell_type": "markdown",
      "metadata": {
        "id": "R6jO_1gISKxk"
      },
      "source": [
        "# **Aprendizaje profundo - Sesión 2  🧠**\n",
        "\n",
        "> **Descripción:** Cuaderno de contenidos del módulo de aprendizaje profundo para el Dimplomado en Ciencia de Datos de la ENES UNAM León, 2024. <br>\n",
        "> **Autor:** [Rodolfo Ferro](https://github.com/RodolfoFerro) <br>\n",
        "> **Contacto:** [ferro@cimat.mx](mailto:ferro@cimat.mx)\n",
        "\n",
        "\n",
        "## Contenido\n",
        "\n",
        "### Sección I\n",
        "\n",
        "1. Perceptrón multicapa\n",
        "2. Retropropagación y optimización del error\n",
        "3. Exploración del TensorFlow Playground\n",
        "\n",
        "### Sección II\n",
        "\n",
        "4. Introducción a TensorFlow\n",
        "5. Mi primera red neuronal\n",
        "6. Función de pérdida y optimizador\n",
        "7. Entrenamiento y predicciones\n",
        "\n",
        "### Sección III – Ejercicio\n",
        "\n",
        "8. El dataset a utilizar\n",
        "9. Preparación de los datos\n",
        "10. Creación del modelo\n",
        "11. Entrenamiento del modelo\n",
        "12. Evaluación y predicción\n",
        "13. Exploración de TensorFlow"
      ]
    },
    {
      "cell_type": "markdown",
      "metadata": {
        "id": "KlQl_jAunKvb"
      },
      "source": [
        "## **Sección I**"
      ]
    },
    {
      "cell_type": "markdown",
      "source": [
        "### **IMPORTANTE**\n",
        "\n",
        "El contenido de esta sección ha sido descrito en su totalidad a través de la presentación.\n",
        "\n",
        "Conviene revisar el material que puedes encontrar en el [repositorio](https://github.com/RodolfoFerro/modulo-deep-learning).\n",
        "\n",
        "En esta sección nos enfocaremos en explorar el [TensorFlow Playground](https://playground.tensorflow.org/#activation=tanh&batchSize=10&dataset=gauss&regDataset=reg-plane&learningRate=0.03&regularizationRate=0&noise=0&networkShape=1&seed=0.49676&showTestData=false&discretize=false&percTrainData=50&x=true&y=true&xTimesY=false&xSquared=false&ySquared=false&cosX=false&sinX=false&cosY=false&sinY=false&collectStats=false&problem=classification&initZero=false&hideText=false).\n",
        "\n",
        "<a href=\"https://playground.tensorflow.org/#activation=tanh&batchSize=10&dataset=gauss&regDataset=reg-plane&learningRate=0.03&regularizationRate=0&noise=0&networkShape=1&seed=0.49676&showTestData=false&discretize=false&percTrainData=50&x=true&y=true&xTimesY=false&xSquared=false&ySquared=false&cosX=false&sinX=false&cosY=false&sinY=false&collectStats=false&problem=classification&initZero=false&hideText=false\" target=\"_blank\">\n",
        "  <button>Abrir Playground</button>\n",
        "</a>"
      ],
      "metadata": {
        "id": "MrvykO3jXLNc"
      }
    },
    {
      "cell_type": "markdown",
      "source": [
        "## **Sección II**"
      ],
      "metadata": {
        "id": "vO4Y2Ih0XJpn"
      }
    },
    {
      "cell_type": "markdown",
      "source": [
        "### **Introducción a TensorFlow**\n",
        "\n",
        "[TensorFlow](https://www.tensorflow.org/) es un framework open-source para Machine Learning desarrollada por Google. Utilizada para construir y entrenar redes neuronales artificiales."
      ],
      "metadata": {
        "id": "fp687hVHnOxo"
      }
    },
    {
      "cell_type": "code",
      "source": [
        "import numpy as np\n",
        "\n",
        "\n",
        "# TODO: Add sample data\n",
        "x = np.array([(0, 0), (1, 0), (0, 1), (1, 1)])\n",
        "y = np.array([0, 1, 1, 0])"
      ],
      "metadata": {
        "id": "GbI7sI3GRLvO"
      },
      "execution_count": null,
      "outputs": []
    },
    {
      "cell_type": "code",
      "source": [
        "import tensorflow as tf\n",
        "\n",
        "# TODO: Create model\n",
        "# layer_1 = Dense -> 2, tanh\n",
        "# layer_2 = Dense -> 1, sigmoid\n",
        "model = tf.keras.models.Sequential([\n",
        "    tf.keras.layers.Dense(2, activation='tanh'),\n",
        "    tf.keras.layers.Dense(1, activation='sigmoid')\n",
        "])"
      ],
      "metadata": {
        "id": "7UId24PBOUdL"
      },
      "execution_count": null,
      "outputs": []
    },
    {
      "cell_type": "code",
      "source": [
        "input_data = np.array([[1, 1]])\n",
        "model.predict(input_data)"
      ],
      "metadata": {
        "id": "YDrqviMejqWL"
      },
      "execution_count": null,
      "outputs": []
    },
    {
      "cell_type": "markdown",
      "source": [
        "### **Optimizador y función de pérdida**"
      ],
      "metadata": {
        "id": "oILbTIcpZzF2"
      }
    },
    {
      "cell_type": "code",
      "source": [
        "loss = tf.keras.losses.MeanSquaredError()"
      ],
      "metadata": {
        "id": "mFFUMXpxZo0x"
      },
      "execution_count": null,
      "outputs": []
    },
    {
      "cell_type": "markdown",
      "source": [
        "$$ \\mathrm{MSE}=\\frac{1}{N}\\cdot\\sum_{i=1}^N \\left(y_i- \\hat{y}_i \\right )^2 $$"
      ],
      "metadata": {
        "id": "BP04BMThkScl"
      }
    },
    {
      "cell_type": "code",
      "source": [
        "# TODO: Explore with different vectors\n",
        "v1 = np.array([1])\n",
        "v2 = np.array([0])\n",
        "\n",
        "loss(v1, v2).numpy()"
      ],
      "metadata": {
        "id": "0A56ubLybjZL"
      },
      "execution_count": null,
      "outputs": []
    },
    {
      "cell_type": "code",
      "source": [
        "# Create an optimizer\n",
        "optimizer = tf.keras.optimizers.SGD(learning_rate=0.6)"
      ],
      "metadata": {
        "id": "VExALtVhxWmW"
      },
      "execution_count": null,
      "outputs": []
    },
    {
      "cell_type": "code",
      "source": [
        "# TODO: Add optimizer and loss to model compilation\n",
        "model.compile(optimizer=optimizer, loss='mse', metrics=[loss])"
      ],
      "metadata": {
        "id": "MFK38I_GbOyN"
      },
      "execution_count": null,
      "outputs": []
    },
    {
      "cell_type": "code",
      "source": [
        "model.summary()"
      ],
      "metadata": {
        "id": "wT5kqY2YcbVv"
      },
      "execution_count": null,
      "outputs": []
    },
    {
      "cell_type": "code",
      "source": [
        "history = model.fit(x, y, epochs=1000)"
      ],
      "metadata": {
        "id": "fDQ4fPJxbtbO"
      },
      "execution_count": null,
      "outputs": []
    },
    {
      "cell_type": "code",
      "source": [
        "import plotly.express as px\n",
        "\n",
        "\n",
        "losses = history.history['loss']\n",
        "eje_x = np.arange(len(losses))\n",
        "\n",
        "fig = px.line(\n",
        "    x=eje_x,\n",
        "    y=losses,\n",
        "    title='Historia de entrenamiento',\n",
        "    labels=dict(x='Épocas', y='Error')\n",
        ")\n",
        "fig.show()"
      ],
      "metadata": {
        "id": "cHBNrHSMXKhW"
      },
      "execution_count": null,
      "outputs": []
    },
    {
      "cell_type": "code",
      "source": [
        "# Construcción de una rejilla\n",
        "x = np.linspace(-0.1, 1.1, 201)\n",
        "y = np.linspace(-0.1, 1.1, 201)\n",
        "xy = np.meshgrid(x, y)\n",
        "zz = np.array(list(zip(*(x.flat for x in xy))))\n",
        "\n",
        "# Predicción en la rejilla de valores\n",
        "surface = model.predict(zz)\n",
        "surface = surface.flatten()"
      ],
      "metadata": {
        "id": "hvSrcyLDaTxc"
      },
      "execution_count": null,
      "outputs": []
    },
    {
      "cell_type": "code",
      "source": [
        "import plotly.graph_objects as go\n",
        "\n",
        "\n",
        "fig = go.Figure(data=[go.Scatter3d(\n",
        "    x=zz[:, 0],\n",
        "    y=zz[:, 1],\n",
        "    z=surface,\n",
        "    mode='markers',\n",
        "    marker=dict(\n",
        "        size=1,\n",
        "        color=surface,\n",
        "        colorscale='Viridis',\n",
        "        opacity=0.8\n",
        "    )\n",
        ")])\n",
        "\n",
        "# Tight layout\n",
        "fig.update_layout(margin=dict(l=0, r=0, b=0, t=0))\n",
        "fig.show()"
      ],
      "metadata": {
        "id": "Z98QLtC8cZH5"
      },
      "execution_count": null,
      "outputs": []
    },
    {
      "cell_type": "markdown",
      "metadata": {
        "id": "0IHtR4uPEaCO"
      },
      "source": [
        "<center>\n",
        "    *********\n",
        "</center>"
      ]
    },
    {
      "cell_type": "markdown",
      "metadata": {
        "id": "7NE4e3KuEVst"
      },
      "source": [
        "## **Sección III – Ejercicio**"
      ]
    },
    {
      "cell_type": "markdown",
      "metadata": {
        "id": "1Z7JrTygMDSx"
      },
      "source": [
        "### El dataset a utilizar: Naranjas vs. Manzanas\n",
        "\n",
        "El dataset ha sido una adaptación de datos encontrados en [Kaggle](https://www.kaggle.com/datasets/theblackmamba31/apple-orange). Dicho dataset está compuesto por conjuntos de imágenes de naranjas y manzanas que serán un utilizados para entrenar una neurona artificial.\n"
      ]
    },
    {
      "cell_type": "markdown",
      "metadata": {
        "id": "UVg0AU2-Fqzr"
      },
      "source": [
        "Para cargar los datos, primero los descargaremos de un repositorio donde previamente los preparé para ustedes.\n",
        "\n",
        "Puedes explorar directamente los archivos fuente del [repositorio en GitHub – `apple-orange-dataset`](https://github.com/RodolfoFerro/apple-orange-dataset).\n",
        "\n",
        "Puedes también explorar el [script](https://github.com/RodolfoFerro/apple-orange-dataset/blob/main/script.py) que he utilizado para la preparación de los mismos."
      ]
    },
    {
      "cell_type": "code",
      "execution_count": null,
      "metadata": {
        "id": "1S81FXVEFzQo"
      },
      "outputs": [],
      "source": [
        "!wget https://raw.githubusercontent.com/RodolfoFerro/apple-orange-dataset/main/training_data.csv\n",
        "!wget https://raw.githubusercontent.com/RodolfoFerro/apple-orange-dataset/main/testing_data.csv"
      ]
    },
    {
      "cell_type": "markdown",
      "metadata": {
        "id": "CxfNdPU3NQge"
      },
      "source": [
        "### Preparación de los datos\n"
      ]
    },
    {
      "cell_type": "code",
      "execution_count": null,
      "metadata": {
        "id": "4fh3DURvLBvA"
      },
      "outputs": [],
      "source": [
        "import pandas as pd\n",
        "\n",
        "\n",
        "training_df = pd.read_csv('training_data.csv')\n",
        "testing_df = pd.read_csv('testing_data.csv')\n",
        "\n",
        "training_df"
      ]
    },
    {
      "cell_type": "code",
      "execution_count": null,
      "metadata": {
        "id": "8IWxRHjQ4GS4"
      },
      "outputs": [],
      "source": [
        "training_df['class_str'] = training_df['class'].astype('str')\n",
        "training_df['hover'] = [text.split('/')[-1] for text in training_df['filename']]\n",
        "\n",
        "testing_df['class_str'] = testing_df['class'].astype('str')\n",
        "testing_df['hover'] = [text.split('/')[-1] for text in testing_df['filename']]\n",
        "\n",
        "training_df"
      ]
    },
    {
      "cell_type": "markdown",
      "metadata": {
        "id": "h7SGMNlqx8Dx"
      },
      "source": [
        "### Exploración de los datos"
      ]
    },
    {
      "cell_type": "markdown",
      "metadata": {
        "id": "wRHZdY0B4NNB"
      },
      "source": [
        "Podemos verificar si el conjunto de datos está balanceado:"
      ]
    },
    {
      "cell_type": "code",
      "execution_count": null,
      "metadata": {
        "id": "dOvDsf0V3i7D"
      },
      "outputs": [],
      "source": [
        "training_df.groupby('class').count()"
      ]
    },
    {
      "cell_type": "markdown",
      "metadata": {
        "id": "5MVOWcHT4Qiz"
      },
      "source": [
        "Podemos explorar cómo se ven los datos en un gráfico 3D:"
      ]
    },
    {
      "cell_type": "code",
      "execution_count": null,
      "metadata": {
        "id": "RXINRt1ox_-G"
      },
      "outputs": [],
      "source": [
        "import plotly.express as px\n",
        "\n",
        "\n",
        "fig = px.scatter_3d(\n",
        "    training_df,\n",
        "    x='r', y='g', z='b',\n",
        "    color='class_str',\n",
        "    symbol='class_str',\n",
        "    color_discrete_sequence=['#be0900', '#ffb447'],\n",
        "    opacity=0.5,\n",
        "    hover_data=['hover']\n",
        ")\n",
        "fig.show()"
      ]
    },
    {
      "cell_type": "markdown",
      "metadata": {
        "id": "L8aw6ijc3QZ7"
      },
      "source": [
        "Puedes explorar las imágenes y sus valores de color utilizando el color picker que ofrece Google: https://g.co/kgs/uarXyu\n",
        "\n",
        "> **Pregunta clave:** ¿Los datos son linealmente separables? Con lo que hemos explorado hasta ahora, ¿basta una neurona para resolver el problema planteado?"
      ]
    },
    {
      "cell_type": "markdown",
      "metadata": {
        "id": "DvV1sKHyu5PU"
      },
      "source": [
        "\n",
        "Antes de crear y entrenar el modelo, procedemos a escalar los datos a valores en [0, 1]."
      ]
    },
    {
      "cell_type": "code",
      "execution_count": null,
      "metadata": {
        "id": "_0o5NZsB7ORw"
      },
      "outputs": [],
      "source": [
        "training_inputs = training_df[['r', 'g', 'b']].values / 255.\n",
        "training_output = training_df['class'].values\n",
        "\n",
        "training_inputs, training_output"
      ]
    },
    {
      "cell_type": "code",
      "source": [
        "testing_inputs = testing_df[['r', 'g', 'b']].values / 255.\n",
        "testing_output = testing_df['class'].values\n",
        "\n",
        "testing_inputs, testing_output"
      ],
      "metadata": {
        "id": "btBgAh4Kyr9Z"
      },
      "execution_count": null,
      "outputs": []
    },
    {
      "cell_type": "markdown",
      "metadata": {
        "id": "bTaT1RjyNjqV"
      },
      "source": [
        "### Creación del modelo\n",
        "\n"
      ]
    },
    {
      "cell_type": "code",
      "metadata": {
        "id": "g-myY9JWNvtY"
      },
      "source": [
        "mlp_model = tf.keras.models.Sequential([\n",
        "    tf.keras.layers.Flatten(),\n",
        "    tf.keras.layers.Dense(4, activation='relu'), # TODO. Dense -> 4, tanh\n",
        "    tf.keras.layers.Dense(1, activation='sigmoid') # TODO. Dense -> 1, sigmoid\n",
        "])"
      ],
      "execution_count": null,
      "outputs": []
    },
    {
      "cell_type": "markdown",
      "source": [
        "### Entrenamiento del modelo\n",
        "\n",
        "Para entrenar el modelo, simplemente utilizamos el método `.fit()` del modelo."
      ],
      "metadata": {
        "id": "B4DmYPVAUJ2d"
      }
    },
    {
      "cell_type": "code",
      "metadata": {
        "id": "F9LHH0f6N5Hi"
      },
      "source": [
        "mlp_model.compile(\n",
        "    optimizer=tf.optimizers.SGD(),\n",
        "    loss='binary_crossentropy',\n",
        "    metrics=['accuracy']\n",
        ")"
      ],
      "execution_count": null,
      "outputs": []
    },
    {
      "cell_type": "code",
      "metadata": {
        "id": "ybq9AzJiN8ZV"
      },
      "source": [
        "# TODO: Set epochs\n",
        "epochs = 100\n",
        "history = mlp_model.fit(training_inputs, training_output, epochs=epochs)"
      ],
      "execution_count": null,
      "outputs": []
    },
    {
      "cell_type": "markdown",
      "source": [
        "\n",
        "> **Pregunta clave:** ¿Qué sucede con la historia de entrenamiento?"
      ],
      "metadata": {
        "id": "KMX5Gjzu92e1"
      }
    },
    {
      "cell_type": "code",
      "source": [
        "import plotly.express as px\n",
        "\n",
        "\n",
        "seen = 'accuracy' # or 'loss'\n",
        "\n",
        "hist_values = history.history[seen]\n",
        "eje_x = np.arange(len(hist_values))\n",
        "\n",
        "fig = px.line(\n",
        "    x=eje_x,\n",
        "    y=hist_values,\n",
        "    title='Historia de entrenamiento',\n",
        "    labels=dict(x='Épocas', y=seen.capitalize())\n",
        ")\n",
        "fig.show()"
      ],
      "metadata": {
        "id": "qlQoHT6tge9P"
      },
      "execution_count": null,
      "outputs": []
    },
    {
      "cell_type": "markdown",
      "metadata": {
        "id": "ih25wLIRvHzv"
      },
      "source": [
        "\n",
        "> **Pregunta clave:** ¿Qué sucede con la historia de entrenamiento?\n",
        "\n",
        "> **Pro-tip:** Exploremos con una nueva función de pérdida, qué tal la utilizada usualemente en una regresión logística: https://developers.google.com/machine-learning/crash-course/logistic-regression/model-training"
      ]
    },
    {
      "cell_type": "markdown",
      "metadata": {
        "id": "cH9mfZMTN8_H"
      },
      "source": [
        "### Evaluación del modelo"
      ]
    },
    {
      "cell_type": "code",
      "metadata": {
        "id": "rHCV5BrAN-pq"
      },
      "source": [
        "mlp_model.evaluate(testing_inputs, testing_output)"
      ],
      "execution_count": null,
      "outputs": []
    },
    {
      "cell_type": "markdown",
      "metadata": {
        "id": "w-hQX4NNOd_D"
      },
      "source": [
        "### Predicción\n"
      ]
    },
    {
      "cell_type": "markdown",
      "metadata": {
        "id": "ZsC5ELq7Ad-F"
      },
      "source": [
        "Para predecir un color de ejemplo:"
      ]
    },
    {
      "cell_type": "code",
      "execution_count": null,
      "metadata": {
        "id": "kLqvq2cnUfdD"
      },
      "outputs": [],
      "source": [
        "# Preparamos los datos\n",
        "sample_index = 250\n",
        "\n",
        "input_sample = np.expand_dims(testing_inputs[sample_index], 0)\n",
        "print('Color real (transformado):', input_sample)\n",
        "\n",
        "real_class = testing_output[sample_index]\n",
        "print('Clase real:', real_class)"
      ]
    },
    {
      "cell_type": "code",
      "execution_count": null,
      "metadata": {
        "id": "l8mB_4-T6l7G"
      },
      "outputs": [],
      "source": [
        "mlp_model.predict(input_sample).tolist()"
      ]
    },
    {
      "cell_type": "markdown",
      "metadata": {
        "id": "8ubrtbZdoJ-m"
      },
      "source": [
        "Para evaluar esta tarea, vamos a utilizar funciones de scikit-learn para la que nos permitirán realizar la evaluación de resultados en el conjunto de pruebas. (Utilizar [`sklearn.metrics.accuracy_score`](https://scikit-learn.org/stable/modules/generated/sklearn.metrics.accuracy_score.html#sklearn.metrics.accuracy_score))"
      ]
    },
    {
      "cell_type": "markdown",
      "metadata": {
        "id": "hMCddqlrYosR"
      },
      "source": [
        "<center>\n",
        "    *********\n",
        "</center>"
      ]
    },
    {
      "cell_type": "code",
      "execution_count": null,
      "metadata": {
        "id": "20x0UwqUAtdz"
      },
      "outputs": [],
      "source": [
        "import plotly.express as px\n",
        "\n",
        "\n",
        "fig = px.scatter_3d(\n",
        "    testing_df,\n",
        "    x='r', y='g', z='b',\n",
        "    color='class_str',\n",
        "    symbol='class_str',\n",
        "    color_discrete_sequence=['#be0900', '#ffb447'],\n",
        "    opacity=0.5,\n",
        "    hover_data=['hover']\n",
        ")\n",
        "fig.show()"
      ]
    },
    {
      "cell_type": "code",
      "execution_count": null,
      "metadata": {
        "id": "tccP9w_EBGvG"
      },
      "outputs": [],
      "source": [
        "def get_predictions(testing_inputs, testing_output, threshold=0.5):\n",
        "    predictions = []\n",
        "    predictions = mlp_model.predict(testing_inputs)\n",
        "    predictions[predictions > threshold] = 1\n",
        "    predictions[predictions <= threshold] = 0\n",
        "\n",
        "    return testing_output, predictions"
      ]
    },
    {
      "cell_type": "code",
      "execution_count": null,
      "metadata": {
        "id": "JZvNFNY4B-Z9"
      },
      "outputs": [],
      "source": [
        "from sklearn.metrics import accuracy_score\n",
        "\n",
        "\n",
        "testing_output, predictions = get_predictions(testing_inputs, testing_output, threshold=0.5)\n",
        "result = accuracy_score(testing_output, predictions)\n",
        "print(f'Accuracy: {result * 100:.6}%')"
      ]
    },
    {
      "cell_type": "markdown",
      "metadata": {
        "id": "fYFSRK0P_c1d"
      },
      "source": [
        "> **Pregunta clave:** ¿Qué sucede si cambiamos el _threshold_ a 0.7? A veces conviene explorar el valor de umbral que seleccionamos y no siempre dar por hecho que 0.5 va a funcionar todas las veces. <br><br>\n",
        "> Lee más aquí: https://ploomber.io/blog/threshold/"
      ]
    },
    {
      "cell_type": "markdown",
      "metadata": {
        "id": "fcCOaQDUvZTt"
      },
      "source": [
        "> **Para resolver el reto:** Mejorar el accuracy obtenido en la clase.\n",
        "\n",
        "**Puedes explorar:**\n",
        "- Utilizar 1 a 3 variables (de las dadas).\n",
        "- Investigar e implementar una nueva función para estimar el error.\n",
        "- Realizar transformaciones en los datos.\n",
        "- Entrenar por más épocas.\n",
        "- Jugar con la arquitectura del modelo.\n",
        "- Mover el umbral para definir la clase.\n",
        "- Explorar otras funciones de activación.\n",
        "- Generar tu nuevo dataset de datos a partir de las imágenes originales."
      ]
    },
    {
      "cell_type": "markdown",
      "source": [
        "--------\n",
        "\n",
        "> Contenido creado por **Rodolfo Ferro**, 2024. <br>\n",
        "> Para cualquier retroalimentación, puedes contactarme a través del correo [ferro@cimat.mx](mailto:ferro@cimat.mx)."
      ],
      "metadata": {
        "id": "hSdbQU3e6-Ky"
      }
    }
  ]
}